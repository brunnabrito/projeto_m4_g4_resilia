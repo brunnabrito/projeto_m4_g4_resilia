{
  "cells": [
    {
      "cell_type": "markdown",
      "metadata": {
        "id": "view-in-github",
        "colab_type": "text"
      },
      "source": [
        "<a href=\"https://colab.research.google.com/github/brunnabrito/projeto_m4_g4_resilia/blob/brunna/Projeto_M4_Grupo_4.ipynb\" target=\"_parent\"><img src=\"https://colab.research.google.com/assets/colab-badge.svg\" alt=\"Open In Colab\"/></a>"
      ]
    },
    {
      "cell_type": "markdown",
      "metadata": {
        "id": "ewDrHZDDH77P"
      },
      "source": [
        "# <font color='green' style='font-size: 30px;'>Projeto de encerramento do módulo: Análise exploratória dos valores de combustíveis no Brasil nos meses de junho e julho de 2021 </font>\n",
        "<hr style='border: 2px solid red;'>"
      ]
    },
    {
      "cell_type": "markdown",
      "metadata": {
        "id": "KJuzezzebUrl"
      },
      "source": [
        "## **1. O Grupo**\n",
        "\n",
        "Grupo 4\n",
        "\n",
        "* Brunna Brito\n",
        "  - [GitHub](https://github.com/brunnabrito)\n",
        "  - [LinkedIn](https://www.linkedin.com/in/brunna-brito/)\n",
        "\n",
        "* Gabriel Kanarski\n",
        "  - [GitHub](https://github.com/GKCSV)\n",
        "  - [LinkedIn](https://www.linkedin.com/in/gabriel-kanarski-8968b9122/)\n",
        "\n",
        "* Lucas Faria\n",
        "  - GitHub\n",
        "  - LinkedIn\n",
        "\n",
        "* Samyr Ozibel\n",
        "  - [GitHub](https://github.com/ozibel)\n",
        "  - [LinkedIn](https://www.linkedin.com/in/samyr-ozibel/)\n",
        "\n",
        "* Vinícius Costa Souto\n",
        "  - [GitHub](https://github.com/ViniciusCostaSouto)\n",
        "  - [LinkedIn](https://www.linkedin.com/in/vin%C3%ADcius-costa-souto-937966164/)"
      ]
    },
    {
      "cell_type": "markdown",
      "source": [
        "## **2. Descrição do Projeto**\n",
        "\n",
        "Você e a sua equipe foram escalados pela Agência Nacional de Petróleo e Gás Natural e Biocombustíveis (ANP) para realizar uma análise exploratória relacionada à série histórica de preço de venda da gasolina e do etanol. ANP é um centro de referência em dados e informações sobre a indústria de petróleo e gás natural:\n",
        "\n",
        "* mantém o Banco de Dados de Exploração e Produção (BDEP);\n",
        "* promove estudos sobre o potencial petrolífero e o desenvolvimento do setor;\n",
        "* recebe e torna públicas as notificações de descobertas;\n",
        "* divulga as estatísticas oficiais sobre reservas, refino e produção de petróleo, gás e biocombustíveis no Brasil.\n",
        "\n",
        "A ANP também realiza e divulga rotineiramente pesquisas sobre qualidade dos combustíveis e lubrificantes e sobre o comportamento dos preços desses produtos. Consolida e divulga informações sobre os mercados regulados e acerca dos investimentos em pesquisa, inovação e formação profissional voltadas para os setores regulados. \n",
        "\n",
        "As fontes de dados que serão utilizadas no projeto estão disponíveis no portal dados.gov. Serão utilizados os arquivos dos meses de junho e julho de 2021 contendo a série histórica dos preços da gasolina e do etanol em todo o Brasil. Para baixar os arquivos, basta clicar nos meses que estão destacados anteriormente.\n",
        "\n",
        "As perguntas a serem respondidas são:\n",
        "\n",
        "1) Como se comportaram o preço dos combustíveis durante os dois meses citados? Os valores do etanol e da gasolina tiveram uma tendência de queda ou diminuição?\n",
        "\n",
        "2) Qual o preço médio da gasolina e do etanol nesses dois meses?\n",
        "\n",
        "3) Quais os 5 estados com o preço médio da gasolina e do etanol mais caros?\n",
        "\n",
        "4) Qual o preço médio da gasolina e do etanol por estado?\n",
        "\n",
        "5) Qual o município que possui o menor preço para a gasolina e para o etanol?\n",
        "\n",
        "6) Qual o município que possui o maior preço para a gasolina e para o etanol?\n",
        "\n",
        "7) Qual a região que possui o maior valor médio da gasolina?\n",
        "\n",
        "8) Qual a região que possui o menor valor médio do etanol?\n",
        "\n",
        "9) Há alguma correlação entre o valor do combustível (gasolina e etanol) e a região onde ele é vendido?\n",
        "\n",
        "10) Há alguma correlação entre o valor do combustível (gasolina e etanol) e a bandeira que vende ele?\n",
        "\n",
        "O projeto deverá obrigatoriamente:\n",
        "\n",
        "* Utilizar Jupyter Notebook ou Colab;\n",
        "* Realizar a limpeza dos dados;\n",
        "* Realizar análise exploratória;\n",
        "* O notebook utilizado na análise deve estar organizado, com descrições do passo a passo da análise em markdown, apresentação dos resultados e insights gerados;\n",
        "* Levantar mais duas perguntas e respondê-las da forma que achar mais adequada."
      ],
      "metadata": {
        "id": "NW8_Fbasp7q-"
      }
    },
    {
      "cell_type": "markdown",
      "source": [
        "## **3. Entendendo os Dados**\n",
        "\n",
        "Nesta etapa estaremos coletando os dados iniciais, descrevendo os referidos dados, bem como explorando os dados com as estatísticas descritivas e por fim, verificando a qualidade de dados."
      ],
      "metadata": {
        "id": "1zIF2tQsux-j"
      }
    },
    {
      "cell_type": "markdown",
      "source": [
        "##### **3.1 Importando as bibliotecas**"
      ],
      "metadata": {
        "id": "_le_yRDcv5S5"
      }
    },
    {
      "cell_type": "markdown",
      "source": [
        "**Eixo base**\n",
        "\n",
        "1. NumPy\n",
        "\n",
        "Biblioteca de manipulação de arrays multidimensionais de alta performance, possui diversas funções matemáticas e estatísticas.\n",
        "\n",
        "2. Pandas\n",
        "\n",
        "Principal biblioteca de manipulação e análise de dados. Possui diversos métodos para agrupar, filtrar, manipular, limpar e combinar dados de forma simples.\n",
        "<br>\n",
        "\n",
        "**Data Visualization**\n",
        "\n",
        "1. Matplotlib\n",
        "\n",
        "O matplotlib é uma biblioteca com recursos para a geração de gráficos 2D a partir de arrays. \n",
        "\n",
        "2. Seaborn\n",
        "\n",
        "O Seaborn é uma biblioteca de visualização de dados do Python baseado no Matplotlib. Ele provê uma interface de alto nível para construção de gráficos estatísticos atrativos e informativos."
      ],
      "metadata": {
        "id": "O7cRibii7Mjp"
      }
    },
    {
      "cell_type": "code",
      "execution_count": null,
      "metadata": {
        "id": "clNqVW0dG0Xd"
      },
      "outputs": [],
      "source": [
        "# Carregando os pacotes do Python necessários \n",
        "import numpy as np\n",
        "import pandas as pd\n",
        "import matplotlib.pyplot as plt\n",
        "import seaborn as sns"
      ]
    },
    {
      "cell_type": "markdown",
      "metadata": {
        "id": "s4kukcY9KlAB"
      },
      "source": [
        "##### **3.2 Coletando os dados iniciais**"
      ]
    },
    {
      "cell_type": "markdown",
      "metadata": {
        "id": "y4lh-p_ob4Y4"
      },
      "source": [
        "Carregar os arquivos dispíveis na ANP"
      ]
    },
    {
      "cell_type": "code",
      "execution_count": null,
      "metadata": {
        "colab": {
          "base_uri": "https://localhost:8080/",
          "height": 564
        },
        "id": "EWCE5vZEG1-5",
        "outputId": "320d8b89-4884-4691-d37a-a0833b3d00b0"
      },
      "outputs": [
        {
          "output_type": "execute_result",
          "data": {
            "text/html": [
              "\n",
              "  <div id=\"df-fb74355d-7520-407e-ac31-0a1990b27d63\">\n",
              "    <div class=\"colab-df-container\">\n",
              "      <div>\n",
              "<style scoped>\n",
              "    .dataframe tbody tr th:only-of-type {\n",
              "        vertical-align: middle;\n",
              "    }\n",
              "\n",
              "    .dataframe tbody tr th {\n",
              "        vertical-align: top;\n",
              "    }\n",
              "\n",
              "    .dataframe thead th {\n",
              "        text-align: right;\n",
              "    }\n",
              "</style>\n",
              "<table border=\"1\" class=\"dataframe\">\n",
              "  <thead>\n",
              "    <tr style=\"text-align: right;\">\n",
              "      <th></th>\n",
              "      <th>Região - Sigla</th>\n",
              "      <th>Estado - Sigla</th>\n",
              "      <th>Município</th>\n",
              "      <th>Revenda</th>\n",
              "      <th>CNPJ da Revenda</th>\n",
              "      <th>Nome da Rua</th>\n",
              "      <th>Número Rua</th>\n",
              "      <th>Complemento</th>\n",
              "      <th>Bairro</th>\n",
              "      <th>Cep</th>\n",
              "      <th>Produto</th>\n",
              "      <th>Data da Coleta</th>\n",
              "      <th>Valor de Venda</th>\n",
              "      <th>Valor de Compra</th>\n",
              "      <th>Unidade de Medida</th>\n",
              "      <th>Bandeira</th>\n",
              "    </tr>\n",
              "  </thead>\n",
              "  <tbody>\n",
              "    <tr>\n",
              "      <th>0</th>\n",
              "      <td>N</td>\n",
              "      <td>AC</td>\n",
              "      <td>CRUZEIRO DO SUL</td>\n",
              "      <td>CARDINAL E OLIVEIRA LTDA</td>\n",
              "      <td>03.608.766/0005-75</td>\n",
              "      <td>AVENIDA BOULEVARD THAUMATURGO</td>\n",
              "      <td>1031</td>\n",
              "      <td>NaN</td>\n",
              "      <td>CENTRO</td>\n",
              "      <td>69980-000</td>\n",
              "      <td>GASOLINA</td>\n",
              "      <td>02/06/2021</td>\n",
              "      <td>6,89</td>\n",
              "      <td>NaN</td>\n",
              "      <td>R$ / litro</td>\n",
              "      <td>PETROBRAS DISTRIBUIDORA S.A.</td>\n",
              "    </tr>\n",
              "    <tr>\n",
              "      <th>1</th>\n",
              "      <td>N</td>\n",
              "      <td>AC</td>\n",
              "      <td>CRUZEIRO DO SUL</td>\n",
              "      <td>CARDINAL E OLIVEIRA LTDA</td>\n",
              "      <td>03.608.766/0005-75</td>\n",
              "      <td>AVENIDA BOULEVARD THAUMATURGO</td>\n",
              "      <td>1031</td>\n",
              "      <td>NaN</td>\n",
              "      <td>CENTRO</td>\n",
              "      <td>69980-000</td>\n",
              "      <td>GASOLINA ADITIVADA</td>\n",
              "      <td>02/06/2021</td>\n",
              "      <td>6,89</td>\n",
              "      <td>NaN</td>\n",
              "      <td>R$ / litro</td>\n",
              "      <td>PETROBRAS DISTRIBUIDORA S.A.</td>\n",
              "    </tr>\n",
              "    <tr>\n",
              "      <th>2</th>\n",
              "      <td>N</td>\n",
              "      <td>AC</td>\n",
              "      <td>CRUZEIRO DO SUL</td>\n",
              "      <td>CARDINAL E OLIVEIRA LTDA</td>\n",
              "      <td>03.608.766/0006-56</td>\n",
              "      <td>AVENIDA 25 DE AGOSTO</td>\n",
              "      <td>1350</td>\n",
              "      <td>NaN</td>\n",
              "      <td>25 DE AGOSTO</td>\n",
              "      <td>69980-000</td>\n",
              "      <td>ETANOL</td>\n",
              "      <td>01/06/2021</td>\n",
              "      <td>6,1</td>\n",
              "      <td>NaN</td>\n",
              "      <td>R$ / litro</td>\n",
              "      <td>PETROBRAS DISTRIBUIDORA S.A.</td>\n",
              "    </tr>\n",
              "    <tr>\n",
              "      <th>3</th>\n",
              "      <td>N</td>\n",
              "      <td>AC</td>\n",
              "      <td>CRUZEIRO DO SUL</td>\n",
              "      <td>CARDINAL E OLIVEIRA LTDA</td>\n",
              "      <td>03.608.766/0006-56</td>\n",
              "      <td>AVENIDA 25 DE AGOSTO</td>\n",
              "      <td>1350</td>\n",
              "      <td>NaN</td>\n",
              "      <td>25 DE AGOSTO</td>\n",
              "      <td>69980-000</td>\n",
              "      <td>GASOLINA</td>\n",
              "      <td>01/06/2021</td>\n",
              "      <td>6,89</td>\n",
              "      <td>NaN</td>\n",
              "      <td>R$ / litro</td>\n",
              "      <td>PETROBRAS DISTRIBUIDORA S.A.</td>\n",
              "    </tr>\n",
              "    <tr>\n",
              "      <th>4</th>\n",
              "      <td>N</td>\n",
              "      <td>AC</td>\n",
              "      <td>CRUZEIRO DO SUL</td>\n",
              "      <td>CARDINAL E OLIVEIRA LTDA</td>\n",
              "      <td>03.608.766/0004-94</td>\n",
              "      <td>AVENIDA LAURO MULLER</td>\n",
              "      <td>943</td>\n",
              "      <td>NaN</td>\n",
              "      <td>JOÃO ALVES</td>\n",
              "      <td>69980-000</td>\n",
              "      <td>GASOLINA</td>\n",
              "      <td>02/06/2021</td>\n",
              "      <td>6,89</td>\n",
              "      <td>NaN</td>\n",
              "      <td>R$ / litro</td>\n",
              "      <td>BRANCA</td>\n",
              "    </tr>\n",
              "  </tbody>\n",
              "</table>\n",
              "</div>\n",
              "      <button class=\"colab-df-convert\" onclick=\"convertToInteractive('df-fb74355d-7520-407e-ac31-0a1990b27d63')\"\n",
              "              title=\"Convert this dataframe to an interactive table.\"\n",
              "              style=\"display:none;\">\n",
              "        \n",
              "  <svg xmlns=\"http://www.w3.org/2000/svg\" height=\"24px\"viewBox=\"0 0 24 24\"\n",
              "       width=\"24px\">\n",
              "    <path d=\"M0 0h24v24H0V0z\" fill=\"none\"/>\n",
              "    <path d=\"M18.56 5.44l.94 2.06.94-2.06 2.06-.94-2.06-.94-.94-2.06-.94 2.06-2.06.94zm-11 1L8.5 8.5l.94-2.06 2.06-.94-2.06-.94L8.5 2.5l-.94 2.06-2.06.94zm10 10l.94 2.06.94-2.06 2.06-.94-2.06-.94-.94-2.06-.94 2.06-2.06.94z\"/><path d=\"M17.41 7.96l-1.37-1.37c-.4-.4-.92-.59-1.43-.59-.52 0-1.04.2-1.43.59L10.3 9.45l-7.72 7.72c-.78.78-.78 2.05 0 2.83L4 21.41c.39.39.9.59 1.41.59.51 0 1.02-.2 1.41-.59l7.78-7.78 2.81-2.81c.8-.78.8-2.07 0-2.86zM5.41 20L4 18.59l7.72-7.72 1.47 1.35L5.41 20z\"/>\n",
              "  </svg>\n",
              "      </button>\n",
              "      \n",
              "  <style>\n",
              "    .colab-df-container {\n",
              "      display:flex;\n",
              "      flex-wrap:wrap;\n",
              "      gap: 12px;\n",
              "    }\n",
              "\n",
              "    .colab-df-convert {\n",
              "      background-color: #E8F0FE;\n",
              "      border: none;\n",
              "      border-radius: 50%;\n",
              "      cursor: pointer;\n",
              "      display: none;\n",
              "      fill: #1967D2;\n",
              "      height: 32px;\n",
              "      padding: 0 0 0 0;\n",
              "      width: 32px;\n",
              "    }\n",
              "\n",
              "    .colab-df-convert:hover {\n",
              "      background-color: #E2EBFA;\n",
              "      box-shadow: 0px 1px 2px rgba(60, 64, 67, 0.3), 0px 1px 3px 1px rgba(60, 64, 67, 0.15);\n",
              "      fill: #174EA6;\n",
              "    }\n",
              "\n",
              "    [theme=dark] .colab-df-convert {\n",
              "      background-color: #3B4455;\n",
              "      fill: #D2E3FC;\n",
              "    }\n",
              "\n",
              "    [theme=dark] .colab-df-convert:hover {\n",
              "      background-color: #434B5C;\n",
              "      box-shadow: 0px 1px 3px 1px rgba(0, 0, 0, 0.15);\n",
              "      filter: drop-shadow(0px 1px 2px rgba(0, 0, 0, 0.3));\n",
              "      fill: #FFFFFF;\n",
              "    }\n",
              "  </style>\n",
              "\n",
              "      <script>\n",
              "        const buttonEl =\n",
              "          document.querySelector('#df-fb74355d-7520-407e-ac31-0a1990b27d63 button.colab-df-convert');\n",
              "        buttonEl.style.display =\n",
              "          google.colab.kernel.accessAllowed ? 'block' : 'none';\n",
              "\n",
              "        async function convertToInteractive(key) {\n",
              "          const element = document.querySelector('#df-fb74355d-7520-407e-ac31-0a1990b27d63');\n",
              "          const dataTable =\n",
              "            await google.colab.kernel.invokeFunction('convertToInteractive',\n",
              "                                                     [key], {});\n",
              "          if (!dataTable) return;\n",
              "\n",
              "          const docLinkHtml = 'Like what you see? Visit the ' +\n",
              "            '<a target=\"_blank\" href=https://colab.research.google.com/notebooks/data_table.ipynb>data table notebook</a>'\n",
              "            + ' to learn more about interactive tables.';\n",
              "          element.innerHTML = '';\n",
              "          dataTable['output_type'] = 'display_data';\n",
              "          await google.colab.output.renderOutput(dataTable, element);\n",
              "          const docLink = document.createElement('div');\n",
              "          docLink.innerHTML = docLinkHtml;\n",
              "          element.appendChild(docLink);\n",
              "        }\n",
              "      </script>\n",
              "    </div>\n",
              "  </div>\n",
              "  "
            ],
            "text/plain": [
              "  Região - Sigla Estado - Sigla  ... Unidade de Medida                      Bandeira\n",
              "0              N             AC  ...        R$ / litro  PETROBRAS DISTRIBUIDORA S.A.\n",
              "1              N             AC  ...        R$ / litro  PETROBRAS DISTRIBUIDORA S.A.\n",
              "2              N             AC  ...        R$ / litro  PETROBRAS DISTRIBUIDORA S.A.\n",
              "3              N             AC  ...        R$ / litro  PETROBRAS DISTRIBUIDORA S.A.\n",
              "4              N             AC  ...        R$ / litro                        BRANCA\n",
              "\n",
              "[5 rows x 16 columns]"
            ]
          },
          "metadata": {},
          "execution_count": 35
        }
      ],
      "source": [
        "# Carregando os dados do mês de junho com informações fornecidas pela ANP\n",
        "jun = pd.read_csv(\"https://www.gov.br/anp/pt-br/centrais-de-conteudo/dados-abertos/arquivos/shpc/dsan/2021/2021-06-gasolina-etanol.csv\", delimiter = \";\")\n",
        "jun.head()"
      ]
    },
    {
      "cell_type": "code",
      "source": [
        "jun['Mes'] = 'junho'"
      ],
      "metadata": {
        "id": "WXIF8DZqJWBc"
      },
      "execution_count": null,
      "outputs": []
    },
    {
      "cell_type": "code",
      "execution_count": null,
      "metadata": {
        "id": "yUDnUiloHF0M",
        "colab": {
          "base_uri": "https://localhost:8080/",
          "height": 634
        },
        "outputId": "e6b3e787-a5bf-4ff1-ca9b-fa590d05d88f"
      },
      "outputs": [
        {
          "output_type": "execute_result",
          "data": {
            "text/html": [
              "\n",
              "  <div id=\"df-718f68f5-6f0f-4abc-ad24-8b956d36d7ae\">\n",
              "    <div class=\"colab-df-container\">\n",
              "      <div>\n",
              "<style scoped>\n",
              "    .dataframe tbody tr th:only-of-type {\n",
              "        vertical-align: middle;\n",
              "    }\n",
              "\n",
              "    .dataframe tbody tr th {\n",
              "        vertical-align: top;\n",
              "    }\n",
              "\n",
              "    .dataframe thead th {\n",
              "        text-align: right;\n",
              "    }\n",
              "</style>\n",
              "<table border=\"1\" class=\"dataframe\">\n",
              "  <thead>\n",
              "    <tr style=\"text-align: right;\">\n",
              "      <th></th>\n",
              "      <th>Região - Sigla</th>\n",
              "      <th>Estado - Sigla</th>\n",
              "      <th>Município</th>\n",
              "      <th>Revenda</th>\n",
              "      <th>CNPJ da Revenda</th>\n",
              "      <th>Nome da Rua</th>\n",
              "      <th>Número Rua</th>\n",
              "      <th>Complemento</th>\n",
              "      <th>Bairro</th>\n",
              "      <th>Cep</th>\n",
              "      <th>Produto</th>\n",
              "      <th>Data da Coleta</th>\n",
              "      <th>Valor de Venda</th>\n",
              "      <th>Valor de Compra</th>\n",
              "      <th>Unidade de Medida</th>\n",
              "      <th>Bandeira</th>\n",
              "    </tr>\n",
              "  </thead>\n",
              "  <tbody>\n",
              "    <tr>\n",
              "      <th>0</th>\n",
              "      <td>NE</td>\n",
              "      <td>CE</td>\n",
              "      <td>MARACANAU</td>\n",
              "      <td>BEZERRA &amp; MENDES COMERCIAL DE PETRÓLEO LTDA.</td>\n",
              "      <td>05.397.086/0001-51</td>\n",
              "      <td>RODOVIA MARANGUAPE - FORTALEZA - KM 06</td>\n",
              "      <td>S/N</td>\n",
              "      <td>NaN</td>\n",
              "      <td>PARQUE LUZARDO VIANA</td>\n",
              "      <td>61910-000</td>\n",
              "      <td>GASOLINA</td>\n",
              "      <td>01/07/2021</td>\n",
              "      <td>5,499</td>\n",
              "      <td>NaN</td>\n",
              "      <td>R$ / litro</td>\n",
              "      <td>IPIRANGA</td>\n",
              "    </tr>\n",
              "    <tr>\n",
              "      <th>1</th>\n",
              "      <td>NE</td>\n",
              "      <td>CE</td>\n",
              "      <td>MARACANAU</td>\n",
              "      <td>BEZERRA &amp; MENDES COMERCIAL DE PETRÓLEO LTDA.</td>\n",
              "      <td>05.397.086/0001-51</td>\n",
              "      <td>RODOVIA MARANGUAPE - FORTALEZA - KM 06</td>\n",
              "      <td>S/N</td>\n",
              "      <td>NaN</td>\n",
              "      <td>PARQUE LUZARDO VIANA</td>\n",
              "      <td>61910-000</td>\n",
              "      <td>ETANOL</td>\n",
              "      <td>01/07/2021</td>\n",
              "      <td>5,2</td>\n",
              "      <td>NaN</td>\n",
              "      <td>R$ / litro</td>\n",
              "      <td>IPIRANGA</td>\n",
              "    </tr>\n",
              "    <tr>\n",
              "      <th>2</th>\n",
              "      <td>NE</td>\n",
              "      <td>CE</td>\n",
              "      <td>MARACANAU</td>\n",
              "      <td>BEZERRA &amp; MENDES COMERCIAL DE PETRÓLEO LTDA.</td>\n",
              "      <td>05.397.086/0001-51</td>\n",
              "      <td>RODOVIA MARANGUAPE - FORTALEZA - KM 06</td>\n",
              "      <td>S/N</td>\n",
              "      <td>NaN</td>\n",
              "      <td>PARQUE LUZARDO VIANA</td>\n",
              "      <td>61910-000</td>\n",
              "      <td>GASOLINA ADITIVADA</td>\n",
              "      <td>01/07/2021</td>\n",
              "      <td>5,699</td>\n",
              "      <td>NaN</td>\n",
              "      <td>R$ / litro</td>\n",
              "      <td>IPIRANGA</td>\n",
              "    </tr>\n",
              "    <tr>\n",
              "      <th>3</th>\n",
              "      <td>NE</td>\n",
              "      <td>CE</td>\n",
              "      <td>MARACANAU</td>\n",
              "      <td>LUIZA GLAURIA R T MENEZES</td>\n",
              "      <td>03.602.329/0001-10</td>\n",
              "      <td>ESTRADA FORTALEZA MARANGUAPE</td>\n",
              "      <td>S/N</td>\n",
              "      <td>NaN</td>\n",
              "      <td>KAGADO</td>\n",
              "      <td>61901-410</td>\n",
              "      <td>GASOLINA</td>\n",
              "      <td>01/07/2021</td>\n",
              "      <td>5,49</td>\n",
              "      <td>NaN</td>\n",
              "      <td>R$ / litro</td>\n",
              "      <td>PETROBRAS DISTRIBUIDORA S.A.</td>\n",
              "    </tr>\n",
              "    <tr>\n",
              "      <th>4</th>\n",
              "      <td>NE</td>\n",
              "      <td>CE</td>\n",
              "      <td>MARACANAU</td>\n",
              "      <td>LUIZA GLAURIA R T MENEZES</td>\n",
              "      <td>03.602.329/0001-10</td>\n",
              "      <td>ESTRADA FORTALEZA MARANGUAPE</td>\n",
              "      <td>S/N</td>\n",
              "      <td>NaN</td>\n",
              "      <td>KAGADO</td>\n",
              "      <td>61901-410</td>\n",
              "      <td>ETANOL</td>\n",
              "      <td>01/07/2021</td>\n",
              "      <td>4,99</td>\n",
              "      <td>NaN</td>\n",
              "      <td>R$ / litro</td>\n",
              "      <td>PETROBRAS DISTRIBUIDORA S.A.</td>\n",
              "    </tr>\n",
              "  </tbody>\n",
              "</table>\n",
              "</div>\n",
              "      <button class=\"colab-df-convert\" onclick=\"convertToInteractive('df-718f68f5-6f0f-4abc-ad24-8b956d36d7ae')\"\n",
              "              title=\"Convert this dataframe to an interactive table.\"\n",
              "              style=\"display:none;\">\n",
              "        \n",
              "  <svg xmlns=\"http://www.w3.org/2000/svg\" height=\"24px\"viewBox=\"0 0 24 24\"\n",
              "       width=\"24px\">\n",
              "    <path d=\"M0 0h24v24H0V0z\" fill=\"none\"/>\n",
              "    <path d=\"M18.56 5.44l.94 2.06.94-2.06 2.06-.94-2.06-.94-.94-2.06-.94 2.06-2.06.94zm-11 1L8.5 8.5l.94-2.06 2.06-.94-2.06-.94L8.5 2.5l-.94 2.06-2.06.94zm10 10l.94 2.06.94-2.06 2.06-.94-2.06-.94-.94-2.06-.94 2.06-2.06.94z\"/><path d=\"M17.41 7.96l-1.37-1.37c-.4-.4-.92-.59-1.43-.59-.52 0-1.04.2-1.43.59L10.3 9.45l-7.72 7.72c-.78.78-.78 2.05 0 2.83L4 21.41c.39.39.9.59 1.41.59.51 0 1.02-.2 1.41-.59l7.78-7.78 2.81-2.81c.8-.78.8-2.07 0-2.86zM5.41 20L4 18.59l7.72-7.72 1.47 1.35L5.41 20z\"/>\n",
              "  </svg>\n",
              "      </button>\n",
              "      \n",
              "  <style>\n",
              "    .colab-df-container {\n",
              "      display:flex;\n",
              "      flex-wrap:wrap;\n",
              "      gap: 12px;\n",
              "    }\n",
              "\n",
              "    .colab-df-convert {\n",
              "      background-color: #E8F0FE;\n",
              "      border: none;\n",
              "      border-radius: 50%;\n",
              "      cursor: pointer;\n",
              "      display: none;\n",
              "      fill: #1967D2;\n",
              "      height: 32px;\n",
              "      padding: 0 0 0 0;\n",
              "      width: 32px;\n",
              "    }\n",
              "\n",
              "    .colab-df-convert:hover {\n",
              "      background-color: #E2EBFA;\n",
              "      box-shadow: 0px 1px 2px rgba(60, 64, 67, 0.3), 0px 1px 3px 1px rgba(60, 64, 67, 0.15);\n",
              "      fill: #174EA6;\n",
              "    }\n",
              "\n",
              "    [theme=dark] .colab-df-convert {\n",
              "      background-color: #3B4455;\n",
              "      fill: #D2E3FC;\n",
              "    }\n",
              "\n",
              "    [theme=dark] .colab-df-convert:hover {\n",
              "      background-color: #434B5C;\n",
              "      box-shadow: 0px 1px 3px 1px rgba(0, 0, 0, 0.15);\n",
              "      filter: drop-shadow(0px 1px 2px rgba(0, 0, 0, 0.3));\n",
              "      fill: #FFFFFF;\n",
              "    }\n",
              "  </style>\n",
              "\n",
              "      <script>\n",
              "        const buttonEl =\n",
              "          document.querySelector('#df-718f68f5-6f0f-4abc-ad24-8b956d36d7ae button.colab-df-convert');\n",
              "        buttonEl.style.display =\n",
              "          google.colab.kernel.accessAllowed ? 'block' : 'none';\n",
              "\n",
              "        async function convertToInteractive(key) {\n",
              "          const element = document.querySelector('#df-718f68f5-6f0f-4abc-ad24-8b956d36d7ae');\n",
              "          const dataTable =\n",
              "            await google.colab.kernel.invokeFunction('convertToInteractive',\n",
              "                                                     [key], {});\n",
              "          if (!dataTable) return;\n",
              "\n",
              "          const docLinkHtml = 'Like what you see? Visit the ' +\n",
              "            '<a target=\"_blank\" href=https://colab.research.google.com/notebooks/data_table.ipynb>data table notebook</a>'\n",
              "            + ' to learn more about interactive tables.';\n",
              "          element.innerHTML = '';\n",
              "          dataTable['output_type'] = 'display_data';\n",
              "          await google.colab.output.renderOutput(dataTable, element);\n",
              "          const docLink = document.createElement('div');\n",
              "          docLink.innerHTML = docLinkHtml;\n",
              "          element.appendChild(docLink);\n",
              "        }\n",
              "      </script>\n",
              "    </div>\n",
              "  </div>\n",
              "  "
            ],
            "text/plain": [
              "  Região - Sigla Estado - Sigla  ... Unidade de Medida                      Bandeira\n",
              "0             NE             CE  ...        R$ / litro                      IPIRANGA\n",
              "1             NE             CE  ...        R$ / litro                      IPIRANGA\n",
              "2             NE             CE  ...        R$ / litro                      IPIRANGA\n",
              "3             NE             CE  ...        R$ / litro  PETROBRAS DISTRIBUIDORA S.A.\n",
              "4             NE             CE  ...        R$ / litro  PETROBRAS DISTRIBUIDORA S.A.\n",
              "\n",
              "[5 rows x 16 columns]"
            ]
          },
          "metadata": {},
          "execution_count": 37
        }
      ],
      "source": [
        "# Carregando os dados do mês de julho com informações fornecidas pela ANP\n",
        "jul = pd.read_csv(\"https://www.gov.br/anp/pt-br/centrais-de-conteudo/dados-abertos/arquivos/shpc/dsan/2021/2021-07-gasolina-etanol.csv\", delimiter = \";\")\n",
        "jul.head()"
      ]
    },
    {
      "cell_type": "code",
      "source": [
        "jul['Mes'] = 'julho'"
      ],
      "metadata": {
        "id": "0EWhWtAeJa3o"
      },
      "execution_count": null,
      "outputs": []
    },
    {
      "cell_type": "markdown",
      "metadata": {
        "id": "_V6BRn3qWOm4"
      },
      "source": [
        "##### **3.3 Unindo os dados**\n",
        "\n",
        "Para facilitar a manipulação dos dados optamos por unir os datasets originais em um só, como ambos possuem os mesmos dados e tipos nas colunas usaremos a concatenação para fazer essa união"
      ]
    },
    {
      "cell_type": "code",
      "execution_count": null,
      "metadata": {
        "id": "p3s72CPFG2WX"
      },
      "outputs": [],
      "source": [
        "df = pd.concat([jun, jul], ignore_index=True)"
      ]
    },
    {
      "cell_type": "markdown",
      "metadata": {
        "id": "-1mBH6AiKT3S"
      },
      "source": [
        "##### **3.4 Descrevendo os dados**\n",
        "\n",
        "Nessa etapa os dados são descritos com objetivo de conhecermos seu formato, os tipos de variáveis (numéricas ou categóricas), bem como aspectos gerais úteis ao entendimento geral do problema."
      ]
    },
    {
      "cell_type": "code",
      "execution_count": null,
      "metadata": {
        "id": "3YHCNd0NjyEZ",
        "colab": {
          "base_uri": "https://localhost:8080/"
        },
        "outputId": "8420f33c-7aae-4418-af95-25c0c90cb3f3"
      },
      "outputs": [
        {
          "output_type": "execute_result",
          "data": {
            "text/plain": [
              "(97586, 17)"
            ]
          },
          "metadata": {},
          "execution_count": 40
        }
      ],
      "source": [
        "# Conhecendo o formato do dataset.\n",
        "\n",
        "df.shape"
      ]
    },
    {
      "cell_type": "markdown",
      "source": [
        "Em uma análise inicial percebe-se que o dataset apresenta um total de 97586 linhas, entradas ou observações, bem como um total de 16 colunas"
      ],
      "metadata": {
        "id": "89vlUZqi04R7"
      }
    },
    {
      "cell_type": "code",
      "execution_count": null,
      "metadata": {
        "id": "XgBHdmoqLACy",
        "colab": {
          "base_uri": "https://localhost:8080/"
        },
        "outputId": "f7459a58-c928-43bf-f05a-2cac3b54e726"
      },
      "outputs": [
        {
          "output_type": "stream",
          "name": "stdout",
          "text": [
            "<class 'pandas.core.frame.DataFrame'>\n",
            "RangeIndex: 97586 entries, 0 to 97585\n",
            "Data columns (total 17 columns):\n",
            " #   Column             Non-Null Count  Dtype  \n",
            "---  ------             --------------  -----  \n",
            " 0   Região - Sigla     97586 non-null  object \n",
            " 1   Estado - Sigla     97586 non-null  object \n",
            " 2   Município          97586 non-null  object \n",
            " 3   Revenda            97586 non-null  object \n",
            " 4   CNPJ da Revenda    97586 non-null  object \n",
            " 5   Nome da Rua        97586 non-null  object \n",
            " 6   Número Rua         97529 non-null  object \n",
            " 7   Complemento        19711 non-null  object \n",
            " 8   Bairro             97327 non-null  object \n",
            " 9   Cep                97586 non-null  object \n",
            " 10  Produto            97586 non-null  object \n",
            " 11  Data da Coleta     97586 non-null  object \n",
            " 12  Valor de Venda     97586 non-null  object \n",
            " 13  Valor de Compra    0 non-null      float64\n",
            " 14  Unidade de Medida  97586 non-null  object \n",
            " 15  Bandeira           97586 non-null  object \n",
            " 16  Mes                97586 non-null  object \n",
            "dtypes: float64(1), object(16)\n",
            "memory usage: 12.7+ MB\n"
          ]
        }
      ],
      "source": [
        "# Conhecendo as varíaveis e seus tipos.\n",
        "\n",
        "df.info()"
      ]
    },
    {
      "cell_type": "markdown",
      "source": [
        "**Dicionário das variáveis**\n",
        "\n",
        "* `Região - Sigla` - xxxxxxx\n",
        "* `Estado - Sigla` - xxxxx\n",
        "* `Município` - xxxxxxx\n",
        "* `Revenda` - xxxxx\n",
        "* `CNPJ da Revenda` - xxxxxxx\n",
        "* `Nome da Rua` - xxxxx\n",
        "* `Número Rua` - xxxxxxx\n",
        "* `Complemento` - xxxxx\n",
        "* `Bairro` - xxxxxxx\n",
        "* `Cep` - xxxxx\n",
        "* `Produto` - xxxxxxx\n",
        "* `Data da Coleta` - xxxxx\n",
        "* `Valor de Venda` - xxxxxxx\n",
        "* `Valor de Compra` - xxxxx\n",
        "* `Unidade de Medida` - xxxxxxx\n",
        "* `Bandeira` - xxxxx\n"
      ],
      "metadata": {
        "id": "PkshEWHq3twc"
      }
    },
    {
      "cell_type": "markdown",
      "source": [
        "E por fim, nesta etapa, é interessante visualizarmos a estrutura do nosso dataset com a possibilidade de identificação prematura de dados faltantes, possíveis valores discrepantes, dentre outras questões. "
      ],
      "metadata": {
        "id": "qksjZX6d4cvf"
      }
    },
    {
      "cell_type": "code",
      "source": [
        "# Visualizar as 5 primeiras linhas do Dataset.\n",
        "\n",
        "df.head()"
      ],
      "metadata": {
        "id": "Url2fs134wPt",
        "colab": {
          "base_uri": "https://localhost:8080/",
          "height": 564
        },
        "outputId": "98214b20-6337-47ab-d144-285e889e41f8"
      },
      "execution_count": null,
      "outputs": [
        {
          "output_type": "execute_result",
          "data": {
            "text/html": [
              "\n",
              "  <div id=\"df-fdac4480-13d5-431c-b9ce-8d6427083fe1\">\n",
              "    <div class=\"colab-df-container\">\n",
              "      <div>\n",
              "<style scoped>\n",
              "    .dataframe tbody tr th:only-of-type {\n",
              "        vertical-align: middle;\n",
              "    }\n",
              "\n",
              "    .dataframe tbody tr th {\n",
              "        vertical-align: top;\n",
              "    }\n",
              "\n",
              "    .dataframe thead th {\n",
              "        text-align: right;\n",
              "    }\n",
              "</style>\n",
              "<table border=\"1\" class=\"dataframe\">\n",
              "  <thead>\n",
              "    <tr style=\"text-align: right;\">\n",
              "      <th></th>\n",
              "      <th>Região - Sigla</th>\n",
              "      <th>Estado - Sigla</th>\n",
              "      <th>Município</th>\n",
              "      <th>Revenda</th>\n",
              "      <th>CNPJ da Revenda</th>\n",
              "      <th>Nome da Rua</th>\n",
              "      <th>Número Rua</th>\n",
              "      <th>Complemento</th>\n",
              "      <th>Bairro</th>\n",
              "      <th>Cep</th>\n",
              "      <th>Produto</th>\n",
              "      <th>Data da Coleta</th>\n",
              "      <th>Valor de Venda</th>\n",
              "      <th>Valor de Compra</th>\n",
              "      <th>Unidade de Medida</th>\n",
              "      <th>Bandeira</th>\n",
              "      <th>Mes</th>\n",
              "    </tr>\n",
              "  </thead>\n",
              "  <tbody>\n",
              "    <tr>\n",
              "      <th>0</th>\n",
              "      <td>N</td>\n",
              "      <td>AC</td>\n",
              "      <td>CRUZEIRO DO SUL</td>\n",
              "      <td>CARDINAL E OLIVEIRA LTDA</td>\n",
              "      <td>03.608.766/0005-75</td>\n",
              "      <td>AVENIDA BOULEVARD THAUMATURGO</td>\n",
              "      <td>1031</td>\n",
              "      <td>NaN</td>\n",
              "      <td>CENTRO</td>\n",
              "      <td>69980-000</td>\n",
              "      <td>GASOLINA</td>\n",
              "      <td>02/06/2021</td>\n",
              "      <td>6,89</td>\n",
              "      <td>NaN</td>\n",
              "      <td>R$ / litro</td>\n",
              "      <td>PETROBRAS DISTRIBUIDORA S.A.</td>\n",
              "      <td>junho</td>\n",
              "    </tr>\n",
              "    <tr>\n",
              "      <th>1</th>\n",
              "      <td>N</td>\n",
              "      <td>AC</td>\n",
              "      <td>CRUZEIRO DO SUL</td>\n",
              "      <td>CARDINAL E OLIVEIRA LTDA</td>\n",
              "      <td>03.608.766/0005-75</td>\n",
              "      <td>AVENIDA BOULEVARD THAUMATURGO</td>\n",
              "      <td>1031</td>\n",
              "      <td>NaN</td>\n",
              "      <td>CENTRO</td>\n",
              "      <td>69980-000</td>\n",
              "      <td>GASOLINA ADITIVADA</td>\n",
              "      <td>02/06/2021</td>\n",
              "      <td>6,89</td>\n",
              "      <td>NaN</td>\n",
              "      <td>R$ / litro</td>\n",
              "      <td>PETROBRAS DISTRIBUIDORA S.A.</td>\n",
              "      <td>junho</td>\n",
              "    </tr>\n",
              "    <tr>\n",
              "      <th>2</th>\n",
              "      <td>N</td>\n",
              "      <td>AC</td>\n",
              "      <td>CRUZEIRO DO SUL</td>\n",
              "      <td>CARDINAL E OLIVEIRA LTDA</td>\n",
              "      <td>03.608.766/0006-56</td>\n",
              "      <td>AVENIDA 25 DE AGOSTO</td>\n",
              "      <td>1350</td>\n",
              "      <td>NaN</td>\n",
              "      <td>25 DE AGOSTO</td>\n",
              "      <td>69980-000</td>\n",
              "      <td>ETANOL</td>\n",
              "      <td>01/06/2021</td>\n",
              "      <td>6,1</td>\n",
              "      <td>NaN</td>\n",
              "      <td>R$ / litro</td>\n",
              "      <td>PETROBRAS DISTRIBUIDORA S.A.</td>\n",
              "      <td>junho</td>\n",
              "    </tr>\n",
              "    <tr>\n",
              "      <th>3</th>\n",
              "      <td>N</td>\n",
              "      <td>AC</td>\n",
              "      <td>CRUZEIRO DO SUL</td>\n",
              "      <td>CARDINAL E OLIVEIRA LTDA</td>\n",
              "      <td>03.608.766/0006-56</td>\n",
              "      <td>AVENIDA 25 DE AGOSTO</td>\n",
              "      <td>1350</td>\n",
              "      <td>NaN</td>\n",
              "      <td>25 DE AGOSTO</td>\n",
              "      <td>69980-000</td>\n",
              "      <td>GASOLINA</td>\n",
              "      <td>01/06/2021</td>\n",
              "      <td>6,89</td>\n",
              "      <td>NaN</td>\n",
              "      <td>R$ / litro</td>\n",
              "      <td>PETROBRAS DISTRIBUIDORA S.A.</td>\n",
              "      <td>junho</td>\n",
              "    </tr>\n",
              "    <tr>\n",
              "      <th>4</th>\n",
              "      <td>N</td>\n",
              "      <td>AC</td>\n",
              "      <td>CRUZEIRO DO SUL</td>\n",
              "      <td>CARDINAL E OLIVEIRA LTDA</td>\n",
              "      <td>03.608.766/0004-94</td>\n",
              "      <td>AVENIDA LAURO MULLER</td>\n",
              "      <td>943</td>\n",
              "      <td>NaN</td>\n",
              "      <td>JOÃO ALVES</td>\n",
              "      <td>69980-000</td>\n",
              "      <td>GASOLINA</td>\n",
              "      <td>02/06/2021</td>\n",
              "      <td>6,89</td>\n",
              "      <td>NaN</td>\n",
              "      <td>R$ / litro</td>\n",
              "      <td>BRANCA</td>\n",
              "      <td>junho</td>\n",
              "    </tr>\n",
              "  </tbody>\n",
              "</table>\n",
              "</div>\n",
              "      <button class=\"colab-df-convert\" onclick=\"convertToInteractive('df-fdac4480-13d5-431c-b9ce-8d6427083fe1')\"\n",
              "              title=\"Convert this dataframe to an interactive table.\"\n",
              "              style=\"display:none;\">\n",
              "        \n",
              "  <svg xmlns=\"http://www.w3.org/2000/svg\" height=\"24px\"viewBox=\"0 0 24 24\"\n",
              "       width=\"24px\">\n",
              "    <path d=\"M0 0h24v24H0V0z\" fill=\"none\"/>\n",
              "    <path d=\"M18.56 5.44l.94 2.06.94-2.06 2.06-.94-2.06-.94-.94-2.06-.94 2.06-2.06.94zm-11 1L8.5 8.5l.94-2.06 2.06-.94-2.06-.94L8.5 2.5l-.94 2.06-2.06.94zm10 10l.94 2.06.94-2.06 2.06-.94-2.06-.94-.94-2.06-.94 2.06-2.06.94z\"/><path d=\"M17.41 7.96l-1.37-1.37c-.4-.4-.92-.59-1.43-.59-.52 0-1.04.2-1.43.59L10.3 9.45l-7.72 7.72c-.78.78-.78 2.05 0 2.83L4 21.41c.39.39.9.59 1.41.59.51 0 1.02-.2 1.41-.59l7.78-7.78 2.81-2.81c.8-.78.8-2.07 0-2.86zM5.41 20L4 18.59l7.72-7.72 1.47 1.35L5.41 20z\"/>\n",
              "  </svg>\n",
              "      </button>\n",
              "      \n",
              "  <style>\n",
              "    .colab-df-container {\n",
              "      display:flex;\n",
              "      flex-wrap:wrap;\n",
              "      gap: 12px;\n",
              "    }\n",
              "\n",
              "    .colab-df-convert {\n",
              "      background-color: #E8F0FE;\n",
              "      border: none;\n",
              "      border-radius: 50%;\n",
              "      cursor: pointer;\n",
              "      display: none;\n",
              "      fill: #1967D2;\n",
              "      height: 32px;\n",
              "      padding: 0 0 0 0;\n",
              "      width: 32px;\n",
              "    }\n",
              "\n",
              "    .colab-df-convert:hover {\n",
              "      background-color: #E2EBFA;\n",
              "      box-shadow: 0px 1px 2px rgba(60, 64, 67, 0.3), 0px 1px 3px 1px rgba(60, 64, 67, 0.15);\n",
              "      fill: #174EA6;\n",
              "    }\n",
              "\n",
              "    [theme=dark] .colab-df-convert {\n",
              "      background-color: #3B4455;\n",
              "      fill: #D2E3FC;\n",
              "    }\n",
              "\n",
              "    [theme=dark] .colab-df-convert:hover {\n",
              "      background-color: #434B5C;\n",
              "      box-shadow: 0px 1px 3px 1px rgba(0, 0, 0, 0.15);\n",
              "      filter: drop-shadow(0px 1px 2px rgba(0, 0, 0, 0.3));\n",
              "      fill: #FFFFFF;\n",
              "    }\n",
              "  </style>\n",
              "\n",
              "      <script>\n",
              "        const buttonEl =\n",
              "          document.querySelector('#df-fdac4480-13d5-431c-b9ce-8d6427083fe1 button.colab-df-convert');\n",
              "        buttonEl.style.display =\n",
              "          google.colab.kernel.accessAllowed ? 'block' : 'none';\n",
              "\n",
              "        async function convertToInteractive(key) {\n",
              "          const element = document.querySelector('#df-fdac4480-13d5-431c-b9ce-8d6427083fe1');\n",
              "          const dataTable =\n",
              "            await google.colab.kernel.invokeFunction('convertToInteractive',\n",
              "                                                     [key], {});\n",
              "          if (!dataTable) return;\n",
              "\n",
              "          const docLinkHtml = 'Like what you see? Visit the ' +\n",
              "            '<a target=\"_blank\" href=https://colab.research.google.com/notebooks/data_table.ipynb>data table notebook</a>'\n",
              "            + ' to learn more about interactive tables.';\n",
              "          element.innerHTML = '';\n",
              "          dataTable['output_type'] = 'display_data';\n",
              "          await google.colab.output.renderOutput(dataTable, element);\n",
              "          const docLink = document.createElement('div');\n",
              "          docLink.innerHTML = docLinkHtml;\n",
              "          element.appendChild(docLink);\n",
              "        }\n",
              "      </script>\n",
              "    </div>\n",
              "  </div>\n",
              "  "
            ],
            "text/plain": [
              "  Região - Sigla Estado - Sigla  ...                      Bandeira    Mes\n",
              "0              N             AC  ...  PETROBRAS DISTRIBUIDORA S.A.  junho\n",
              "1              N             AC  ...  PETROBRAS DISTRIBUIDORA S.A.  junho\n",
              "2              N             AC  ...  PETROBRAS DISTRIBUIDORA S.A.  junho\n",
              "3              N             AC  ...  PETROBRAS DISTRIBUIDORA S.A.  junho\n",
              "4              N             AC  ...                        BRANCA  junho\n",
              "\n",
              "[5 rows x 17 columns]"
            ]
          },
          "metadata": {},
          "execution_count": 42
        }
      ]
    },
    {
      "cell_type": "code",
      "source": [
        "# Visualizar as 5 últimas linhas do Dataset.\n",
        "\n",
        "df.tail()"
      ],
      "metadata": {
        "id": "h4SxYEtL43ME",
        "colab": {
          "base_uri": "https://localhost:8080/",
          "height": 530
        },
        "outputId": "fe5363ac-6c94-4e9e-e4de-2f9e84266137"
      },
      "execution_count": null,
      "outputs": [
        {
          "output_type": "execute_result",
          "data": {
            "text/html": [
              "\n",
              "  <div id=\"df-22e64e97-149c-4070-8049-04110fe14dff\">\n",
              "    <div class=\"colab-df-container\">\n",
              "      <div>\n",
              "<style scoped>\n",
              "    .dataframe tbody tr th:only-of-type {\n",
              "        vertical-align: middle;\n",
              "    }\n",
              "\n",
              "    .dataframe tbody tr th {\n",
              "        vertical-align: top;\n",
              "    }\n",
              "\n",
              "    .dataframe thead th {\n",
              "        text-align: right;\n",
              "    }\n",
              "</style>\n",
              "<table border=\"1\" class=\"dataframe\">\n",
              "  <thead>\n",
              "    <tr style=\"text-align: right;\">\n",
              "      <th></th>\n",
              "      <th>Região - Sigla</th>\n",
              "      <th>Estado - Sigla</th>\n",
              "      <th>Município</th>\n",
              "      <th>Revenda</th>\n",
              "      <th>CNPJ da Revenda</th>\n",
              "      <th>Nome da Rua</th>\n",
              "      <th>Número Rua</th>\n",
              "      <th>Complemento</th>\n",
              "      <th>Bairro</th>\n",
              "      <th>Cep</th>\n",
              "      <th>Produto</th>\n",
              "      <th>Data da Coleta</th>\n",
              "      <th>Valor de Venda</th>\n",
              "      <th>Valor de Compra</th>\n",
              "      <th>Unidade de Medida</th>\n",
              "      <th>Bandeira</th>\n",
              "      <th>Mes</th>\n",
              "    </tr>\n",
              "  </thead>\n",
              "  <tbody>\n",
              "    <tr>\n",
              "      <th>97581</th>\n",
              "      <td>SE</td>\n",
              "      <td>ES</td>\n",
              "      <td>ARACRUZ</td>\n",
              "      <td>POSTO DE COMBUSTIVEL SHOW EIRELI</td>\n",
              "      <td>23.797.660/0001-40</td>\n",
              "      <td>AVENIDA CORONEL VENANCIO FLORES</td>\n",
              "      <td>28</td>\n",
              "      <td>NaN</td>\n",
              "      <td>CENTRO</td>\n",
              "      <td>29190-010</td>\n",
              "      <td>GASOLINA ADITIVADA</td>\n",
              "      <td>26/07/2021</td>\n",
              "      <td>5,87</td>\n",
              "      <td>NaN</td>\n",
              "      <td>R$ / litro</td>\n",
              "      <td>BRANCA</td>\n",
              "      <td>julho</td>\n",
              "    </tr>\n",
              "    <tr>\n",
              "      <th>97582</th>\n",
              "      <td>SE</td>\n",
              "      <td>ES</td>\n",
              "      <td>ARACRUZ</td>\n",
              "      <td>POSTO DE COMBUSTIVEL SHOW EIRELI</td>\n",
              "      <td>23.797.660/0001-40</td>\n",
              "      <td>AVENIDA CORONEL VENANCIO FLORES</td>\n",
              "      <td>28</td>\n",
              "      <td>NaN</td>\n",
              "      <td>CENTRO</td>\n",
              "      <td>29190-010</td>\n",
              "      <td>ETANOL</td>\n",
              "      <td>26/07/2021</td>\n",
              "      <td>4,99</td>\n",
              "      <td>NaN</td>\n",
              "      <td>R$ / litro</td>\n",
              "      <td>BRANCA</td>\n",
              "      <td>julho</td>\n",
              "    </tr>\n",
              "    <tr>\n",
              "      <th>97583</th>\n",
              "      <td>SE</td>\n",
              "      <td>ES</td>\n",
              "      <td>ARACRUZ</td>\n",
              "      <td>POSTO DE COMBUSTIVEL SHOW EIRELI</td>\n",
              "      <td>23.797.660/0001-40</td>\n",
              "      <td>AVENIDA CORONEL VENANCIO FLORES</td>\n",
              "      <td>28</td>\n",
              "      <td>NaN</td>\n",
              "      <td>CENTRO</td>\n",
              "      <td>29190-010</td>\n",
              "      <td>GASOLINA</td>\n",
              "      <td>26/07/2021</td>\n",
              "      <td>5,87</td>\n",
              "      <td>NaN</td>\n",
              "      <td>R$ / litro</td>\n",
              "      <td>BRANCA</td>\n",
              "      <td>julho</td>\n",
              "    </tr>\n",
              "    <tr>\n",
              "      <th>97584</th>\n",
              "      <td>SE</td>\n",
              "      <td>MG</td>\n",
              "      <td>ARAXA</td>\n",
              "      <td>AUTO POSTO BRANQUINHO LTDA</td>\n",
              "      <td>37.461.683/0001-94</td>\n",
              "      <td>AVENIDA SENADOR MONTANDON</td>\n",
              "      <td>950</td>\n",
              "      <td>NaN</td>\n",
              "      <td>CENTRO</td>\n",
              "      <td>38183-214</td>\n",
              "      <td>ETANOL</td>\n",
              "      <td>28/07/2021</td>\n",
              "      <td>4,599</td>\n",
              "      <td>NaN</td>\n",
              "      <td>R$ / litro</td>\n",
              "      <td>RIO BRANCO</td>\n",
              "      <td>julho</td>\n",
              "    </tr>\n",
              "    <tr>\n",
              "      <th>97585</th>\n",
              "      <td>SE</td>\n",
              "      <td>MG</td>\n",
              "      <td>ARAXA</td>\n",
              "      <td>AUTO POSTO BRANQUINHO LTDA</td>\n",
              "      <td>37.461.683/0001-94</td>\n",
              "      <td>AVENIDA SENADOR MONTANDON</td>\n",
              "      <td>950</td>\n",
              "      <td>NaN</td>\n",
              "      <td>CENTRO</td>\n",
              "      <td>38183-214</td>\n",
              "      <td>GASOLINA</td>\n",
              "      <td>28/07/2021</td>\n",
              "      <td>6,199</td>\n",
              "      <td>NaN</td>\n",
              "      <td>R$ / litro</td>\n",
              "      <td>RIO BRANCO</td>\n",
              "      <td>julho</td>\n",
              "    </tr>\n",
              "  </tbody>\n",
              "</table>\n",
              "</div>\n",
              "      <button class=\"colab-df-convert\" onclick=\"convertToInteractive('df-22e64e97-149c-4070-8049-04110fe14dff')\"\n",
              "              title=\"Convert this dataframe to an interactive table.\"\n",
              "              style=\"display:none;\">\n",
              "        \n",
              "  <svg xmlns=\"http://www.w3.org/2000/svg\" height=\"24px\"viewBox=\"0 0 24 24\"\n",
              "       width=\"24px\">\n",
              "    <path d=\"M0 0h24v24H0V0z\" fill=\"none\"/>\n",
              "    <path d=\"M18.56 5.44l.94 2.06.94-2.06 2.06-.94-2.06-.94-.94-2.06-.94 2.06-2.06.94zm-11 1L8.5 8.5l.94-2.06 2.06-.94-2.06-.94L8.5 2.5l-.94 2.06-2.06.94zm10 10l.94 2.06.94-2.06 2.06-.94-2.06-.94-.94-2.06-.94 2.06-2.06.94z\"/><path d=\"M17.41 7.96l-1.37-1.37c-.4-.4-.92-.59-1.43-.59-.52 0-1.04.2-1.43.59L10.3 9.45l-7.72 7.72c-.78.78-.78 2.05 0 2.83L4 21.41c.39.39.9.59 1.41.59.51 0 1.02-.2 1.41-.59l7.78-7.78 2.81-2.81c.8-.78.8-2.07 0-2.86zM5.41 20L4 18.59l7.72-7.72 1.47 1.35L5.41 20z\"/>\n",
              "  </svg>\n",
              "      </button>\n",
              "      \n",
              "  <style>\n",
              "    .colab-df-container {\n",
              "      display:flex;\n",
              "      flex-wrap:wrap;\n",
              "      gap: 12px;\n",
              "    }\n",
              "\n",
              "    .colab-df-convert {\n",
              "      background-color: #E8F0FE;\n",
              "      border: none;\n",
              "      border-radius: 50%;\n",
              "      cursor: pointer;\n",
              "      display: none;\n",
              "      fill: #1967D2;\n",
              "      height: 32px;\n",
              "      padding: 0 0 0 0;\n",
              "      width: 32px;\n",
              "    }\n",
              "\n",
              "    .colab-df-convert:hover {\n",
              "      background-color: #E2EBFA;\n",
              "      box-shadow: 0px 1px 2px rgba(60, 64, 67, 0.3), 0px 1px 3px 1px rgba(60, 64, 67, 0.15);\n",
              "      fill: #174EA6;\n",
              "    }\n",
              "\n",
              "    [theme=dark] .colab-df-convert {\n",
              "      background-color: #3B4455;\n",
              "      fill: #D2E3FC;\n",
              "    }\n",
              "\n",
              "    [theme=dark] .colab-df-convert:hover {\n",
              "      background-color: #434B5C;\n",
              "      box-shadow: 0px 1px 3px 1px rgba(0, 0, 0, 0.15);\n",
              "      filter: drop-shadow(0px 1px 2px rgba(0, 0, 0, 0.3));\n",
              "      fill: #FFFFFF;\n",
              "    }\n",
              "  </style>\n",
              "\n",
              "      <script>\n",
              "        const buttonEl =\n",
              "          document.querySelector('#df-22e64e97-149c-4070-8049-04110fe14dff button.colab-df-convert');\n",
              "        buttonEl.style.display =\n",
              "          google.colab.kernel.accessAllowed ? 'block' : 'none';\n",
              "\n",
              "        async function convertToInteractive(key) {\n",
              "          const element = document.querySelector('#df-22e64e97-149c-4070-8049-04110fe14dff');\n",
              "          const dataTable =\n",
              "            await google.colab.kernel.invokeFunction('convertToInteractive',\n",
              "                                                     [key], {});\n",
              "          if (!dataTable) return;\n",
              "\n",
              "          const docLinkHtml = 'Like what you see? Visit the ' +\n",
              "            '<a target=\"_blank\" href=https://colab.research.google.com/notebooks/data_table.ipynb>data table notebook</a>'\n",
              "            + ' to learn more about interactive tables.';\n",
              "          element.innerHTML = '';\n",
              "          dataTable['output_type'] = 'display_data';\n",
              "          await google.colab.output.renderOutput(dataTable, element);\n",
              "          const docLink = document.createElement('div');\n",
              "          docLink.innerHTML = docLinkHtml;\n",
              "          element.appendChild(docLink);\n",
              "        }\n",
              "      </script>\n",
              "    </div>\n",
              "  </div>\n",
              "  "
            ],
            "text/plain": [
              "      Região - Sigla Estado - Sigla  ...    Bandeira    Mes\n",
              "97581             SE             ES  ...      BRANCA  julho\n",
              "97582             SE             ES  ...      BRANCA  julho\n",
              "97583             SE             ES  ...      BRANCA  julho\n",
              "97584             SE             MG  ...  RIO BRANCO  julho\n",
              "97585             SE             MG  ...  RIO BRANCO  julho\n",
              "\n",
              "[5 rows x 17 columns]"
            ]
          },
          "metadata": {},
          "execution_count": 43
        }
      ]
    },
    {
      "cell_type": "markdown",
      "source": [
        "## **4. Preparação e limpeza dos dados:** \n",
        "\n",
        "Nesta etapa estaremos limpando os dados, integrando os dados, formatando os dados, construindo novos dados, para enfim, selecionar os dados que serão utilizados na construção de nosso modelo (análise exploratória de dados)."
      ],
      "metadata": {
        "id": "topBrf-T5RHF"
      }
    },
    {
      "cell_type": "markdown",
      "source": [
        "##### **4.1 Selecionando os dados**\n",
        "\n",
        "Verificamos que temos alguns dados que não serão determinantes na nossa análise e optamos por retirá-los para termos mais clareza durante a análise. "
      ],
      "metadata": {
        "id": "nABsZXVO9Jw4"
      }
    },
    {
      "cell_type": "code",
      "execution_count": null,
      "metadata": {
        "id": "2BBp6GZOMiWe"
      },
      "outputs": [],
      "source": [
        "# Selecionando as colunas necessárias para a análise e renomeando colunas para facilitar o acesso aos dados\n",
        "\n",
        "df = df[['Região - Sigla', 'Estado - Sigla', 'Município', 'Revenda','Produto', 'Valor de Venda', 'Data da Coleta','Bandeira', 'Mes']]\n",
        "df = df.rename(columns={'Região - Sigla': 'Regiao', 'Estado - Sigla': 'Estado', 'Município':'Municipio', 'Valor de Venda': 'Valor', 'Data da Coleta':'Data'})"
      ]
    },
    {
      "cell_type": "markdown",
      "metadata": {
        "id": "VTWRAoBoMEdR"
      },
      "source": [
        "##### **4.2 Integração dos Dados**\n",
        "\n",
        "Conforme exposto em aula a análise poderia ser feita unindo os dois tipos de gasolina, gasolina comum e gasolina aditivada. Aqui faremos a transformação da gasolina aditivada para simplesmente gasolina. "
      ]
    },
    {
      "cell_type": "code",
      "execution_count": null,
      "metadata": {
        "id": "gmMJqj6aMD6c"
      },
      "outputs": [],
      "source": [
        "# Verificando onde o produto é 'GASOLINA ADITIVADA' e convertendo para 'GASOLINA'\n",
        "\n",
        "df['Produto'][df['Produto'].str.contains('GASOLINA ADITIVADA')] = 'GASOLINA'"
      ]
    },
    {
      "cell_type": "markdown",
      "metadata": {
        "id": "kC1v-vheUl61"
      },
      "source": [
        "##### **4.3 Convertendo os valores**\n",
        "\n",
        "Identificamos que a coluna valor trata-se de uma variável numérica e vamos converter o valor para float com a substituição da ',' pelo '.'."
      ]
    },
    {
      "cell_type": "code",
      "execution_count": null,
      "metadata": {
        "id": "ppFF_frgOO8P",
        "colab": {
          "base_uri": "https://localhost:8080/",
          "height": 423
        },
        "outputId": "e36d46c4-9ef3-4219-9af3-8111fa35d616"
      },
      "outputs": [
        {
          "output_type": "execute_result",
          "data": {
            "text/html": [
              "\n",
              "  <div id=\"df-c32f160f-6537-43a5-ba08-d1c5bcc9372b\">\n",
              "    <div class=\"colab-df-container\">\n",
              "      <div>\n",
              "<style scoped>\n",
              "    .dataframe tbody tr th:only-of-type {\n",
              "        vertical-align: middle;\n",
              "    }\n",
              "\n",
              "    .dataframe tbody tr th {\n",
              "        vertical-align: top;\n",
              "    }\n",
              "\n",
              "    .dataframe thead th {\n",
              "        text-align: right;\n",
              "    }\n",
              "</style>\n",
              "<table border=\"1\" class=\"dataframe\">\n",
              "  <thead>\n",
              "    <tr style=\"text-align: right;\">\n",
              "      <th></th>\n",
              "      <th>Regiao</th>\n",
              "      <th>Estado</th>\n",
              "      <th>Municipio</th>\n",
              "      <th>Revenda</th>\n",
              "      <th>Produto</th>\n",
              "      <th>Valor</th>\n",
              "      <th>Data</th>\n",
              "      <th>Bandeira</th>\n",
              "      <th>Mes</th>\n",
              "    </tr>\n",
              "  </thead>\n",
              "  <tbody>\n",
              "    <tr>\n",
              "      <th>0</th>\n",
              "      <td>N</td>\n",
              "      <td>AC</td>\n",
              "      <td>CRUZEIRO DO SUL</td>\n",
              "      <td>CARDINAL E OLIVEIRA LTDA</td>\n",
              "      <td>GASOLINA</td>\n",
              "      <td>6.890</td>\n",
              "      <td>02/06/2021</td>\n",
              "      <td>PETROBRAS DISTRIBUIDORA S.A.</td>\n",
              "      <td>junho</td>\n",
              "    </tr>\n",
              "    <tr>\n",
              "      <th>1</th>\n",
              "      <td>N</td>\n",
              "      <td>AC</td>\n",
              "      <td>CRUZEIRO DO SUL</td>\n",
              "      <td>CARDINAL E OLIVEIRA LTDA</td>\n",
              "      <td>GASOLINA</td>\n",
              "      <td>6.890</td>\n",
              "      <td>02/06/2021</td>\n",
              "      <td>PETROBRAS DISTRIBUIDORA S.A.</td>\n",
              "      <td>junho</td>\n",
              "    </tr>\n",
              "    <tr>\n",
              "      <th>2</th>\n",
              "      <td>N</td>\n",
              "      <td>AC</td>\n",
              "      <td>CRUZEIRO DO SUL</td>\n",
              "      <td>CARDINAL E OLIVEIRA LTDA</td>\n",
              "      <td>ETANOL</td>\n",
              "      <td>6.100</td>\n",
              "      <td>01/06/2021</td>\n",
              "      <td>PETROBRAS DISTRIBUIDORA S.A.</td>\n",
              "      <td>junho</td>\n",
              "    </tr>\n",
              "    <tr>\n",
              "      <th>3</th>\n",
              "      <td>N</td>\n",
              "      <td>AC</td>\n",
              "      <td>CRUZEIRO DO SUL</td>\n",
              "      <td>CARDINAL E OLIVEIRA LTDA</td>\n",
              "      <td>GASOLINA</td>\n",
              "      <td>6.890</td>\n",
              "      <td>01/06/2021</td>\n",
              "      <td>PETROBRAS DISTRIBUIDORA S.A.</td>\n",
              "      <td>junho</td>\n",
              "    </tr>\n",
              "    <tr>\n",
              "      <th>4</th>\n",
              "      <td>N</td>\n",
              "      <td>AC</td>\n",
              "      <td>CRUZEIRO DO SUL</td>\n",
              "      <td>CARDINAL E OLIVEIRA LTDA</td>\n",
              "      <td>GASOLINA</td>\n",
              "      <td>6.890</td>\n",
              "      <td>02/06/2021</td>\n",
              "      <td>BRANCA</td>\n",
              "      <td>junho</td>\n",
              "    </tr>\n",
              "    <tr>\n",
              "      <th>...</th>\n",
              "      <td>...</td>\n",
              "      <td>...</td>\n",
              "      <td>...</td>\n",
              "      <td>...</td>\n",
              "      <td>...</td>\n",
              "      <td>...</td>\n",
              "      <td>...</td>\n",
              "      <td>...</td>\n",
              "      <td>...</td>\n",
              "    </tr>\n",
              "    <tr>\n",
              "      <th>97581</th>\n",
              "      <td>SE</td>\n",
              "      <td>ES</td>\n",
              "      <td>ARACRUZ</td>\n",
              "      <td>POSTO DE COMBUSTIVEL SHOW EIRELI</td>\n",
              "      <td>GASOLINA</td>\n",
              "      <td>5.870</td>\n",
              "      <td>26/07/2021</td>\n",
              "      <td>BRANCA</td>\n",
              "      <td>julho</td>\n",
              "    </tr>\n",
              "    <tr>\n",
              "      <th>97582</th>\n",
              "      <td>SE</td>\n",
              "      <td>ES</td>\n",
              "      <td>ARACRUZ</td>\n",
              "      <td>POSTO DE COMBUSTIVEL SHOW EIRELI</td>\n",
              "      <td>ETANOL</td>\n",
              "      <td>4.990</td>\n",
              "      <td>26/07/2021</td>\n",
              "      <td>BRANCA</td>\n",
              "      <td>julho</td>\n",
              "    </tr>\n",
              "    <tr>\n",
              "      <th>97583</th>\n",
              "      <td>SE</td>\n",
              "      <td>ES</td>\n",
              "      <td>ARACRUZ</td>\n",
              "      <td>POSTO DE COMBUSTIVEL SHOW EIRELI</td>\n",
              "      <td>GASOLINA</td>\n",
              "      <td>5.870</td>\n",
              "      <td>26/07/2021</td>\n",
              "      <td>BRANCA</td>\n",
              "      <td>julho</td>\n",
              "    </tr>\n",
              "    <tr>\n",
              "      <th>97584</th>\n",
              "      <td>SE</td>\n",
              "      <td>MG</td>\n",
              "      <td>ARAXA</td>\n",
              "      <td>AUTO POSTO BRANQUINHO LTDA</td>\n",
              "      <td>ETANOL</td>\n",
              "      <td>4.599</td>\n",
              "      <td>28/07/2021</td>\n",
              "      <td>RIO BRANCO</td>\n",
              "      <td>julho</td>\n",
              "    </tr>\n",
              "    <tr>\n",
              "      <th>97585</th>\n",
              "      <td>SE</td>\n",
              "      <td>MG</td>\n",
              "      <td>ARAXA</td>\n",
              "      <td>AUTO POSTO BRANQUINHO LTDA</td>\n",
              "      <td>GASOLINA</td>\n",
              "      <td>6.199</td>\n",
              "      <td>28/07/2021</td>\n",
              "      <td>RIO BRANCO</td>\n",
              "      <td>julho</td>\n",
              "    </tr>\n",
              "  </tbody>\n",
              "</table>\n",
              "<p>97586 rows × 9 columns</p>\n",
              "</div>\n",
              "      <button class=\"colab-df-convert\" onclick=\"convertToInteractive('df-c32f160f-6537-43a5-ba08-d1c5bcc9372b')\"\n",
              "              title=\"Convert this dataframe to an interactive table.\"\n",
              "              style=\"display:none;\">\n",
              "        \n",
              "  <svg xmlns=\"http://www.w3.org/2000/svg\" height=\"24px\"viewBox=\"0 0 24 24\"\n",
              "       width=\"24px\">\n",
              "    <path d=\"M0 0h24v24H0V0z\" fill=\"none\"/>\n",
              "    <path d=\"M18.56 5.44l.94 2.06.94-2.06 2.06-.94-2.06-.94-.94-2.06-.94 2.06-2.06.94zm-11 1L8.5 8.5l.94-2.06 2.06-.94-2.06-.94L8.5 2.5l-.94 2.06-2.06.94zm10 10l.94 2.06.94-2.06 2.06-.94-2.06-.94-.94-2.06-.94 2.06-2.06.94z\"/><path d=\"M17.41 7.96l-1.37-1.37c-.4-.4-.92-.59-1.43-.59-.52 0-1.04.2-1.43.59L10.3 9.45l-7.72 7.72c-.78.78-.78 2.05 0 2.83L4 21.41c.39.39.9.59 1.41.59.51 0 1.02-.2 1.41-.59l7.78-7.78 2.81-2.81c.8-.78.8-2.07 0-2.86zM5.41 20L4 18.59l7.72-7.72 1.47 1.35L5.41 20z\"/>\n",
              "  </svg>\n",
              "      </button>\n",
              "      \n",
              "  <style>\n",
              "    .colab-df-container {\n",
              "      display:flex;\n",
              "      flex-wrap:wrap;\n",
              "      gap: 12px;\n",
              "    }\n",
              "\n",
              "    .colab-df-convert {\n",
              "      background-color: #E8F0FE;\n",
              "      border: none;\n",
              "      border-radius: 50%;\n",
              "      cursor: pointer;\n",
              "      display: none;\n",
              "      fill: #1967D2;\n",
              "      height: 32px;\n",
              "      padding: 0 0 0 0;\n",
              "      width: 32px;\n",
              "    }\n",
              "\n",
              "    .colab-df-convert:hover {\n",
              "      background-color: #E2EBFA;\n",
              "      box-shadow: 0px 1px 2px rgba(60, 64, 67, 0.3), 0px 1px 3px 1px rgba(60, 64, 67, 0.15);\n",
              "      fill: #174EA6;\n",
              "    }\n",
              "\n",
              "    [theme=dark] .colab-df-convert {\n",
              "      background-color: #3B4455;\n",
              "      fill: #D2E3FC;\n",
              "    }\n",
              "\n",
              "    [theme=dark] .colab-df-convert:hover {\n",
              "      background-color: #434B5C;\n",
              "      box-shadow: 0px 1px 3px 1px rgba(0, 0, 0, 0.15);\n",
              "      filter: drop-shadow(0px 1px 2px rgba(0, 0, 0, 0.3));\n",
              "      fill: #FFFFFF;\n",
              "    }\n",
              "  </style>\n",
              "\n",
              "      <script>\n",
              "        const buttonEl =\n",
              "          document.querySelector('#df-c32f160f-6537-43a5-ba08-d1c5bcc9372b button.colab-df-convert');\n",
              "        buttonEl.style.display =\n",
              "          google.colab.kernel.accessAllowed ? 'block' : 'none';\n",
              "\n",
              "        async function convertToInteractive(key) {\n",
              "          const element = document.querySelector('#df-c32f160f-6537-43a5-ba08-d1c5bcc9372b');\n",
              "          const dataTable =\n",
              "            await google.colab.kernel.invokeFunction('convertToInteractive',\n",
              "                                                     [key], {});\n",
              "          if (!dataTable) return;\n",
              "\n",
              "          const docLinkHtml = 'Like what you see? Visit the ' +\n",
              "            '<a target=\"_blank\" href=https://colab.research.google.com/notebooks/data_table.ipynb>data table notebook</a>'\n",
              "            + ' to learn more about interactive tables.';\n",
              "          element.innerHTML = '';\n",
              "          dataTable['output_type'] = 'display_data';\n",
              "          await google.colab.output.renderOutput(dataTable, element);\n",
              "          const docLink = document.createElement('div');\n",
              "          docLink.innerHTML = docLinkHtml;\n",
              "          element.appendChild(docLink);\n",
              "        }\n",
              "      </script>\n",
              "    </div>\n",
              "  </div>\n",
              "  "
            ],
            "text/plain": [
              "      Regiao Estado  ...                      Bandeira    Mes\n",
              "0          N     AC  ...  PETROBRAS DISTRIBUIDORA S.A.  junho\n",
              "1          N     AC  ...  PETROBRAS DISTRIBUIDORA S.A.  junho\n",
              "2          N     AC  ...  PETROBRAS DISTRIBUIDORA S.A.  junho\n",
              "3          N     AC  ...  PETROBRAS DISTRIBUIDORA S.A.  junho\n",
              "4          N     AC  ...                        BRANCA  junho\n",
              "...      ...    ...  ...                           ...    ...\n",
              "97581     SE     ES  ...                        BRANCA  julho\n",
              "97582     SE     ES  ...                        BRANCA  julho\n",
              "97583     SE     ES  ...                        BRANCA  julho\n",
              "97584     SE     MG  ...                    RIO BRANCO  julho\n",
              "97585     SE     MG  ...                    RIO BRANCO  julho\n",
              "\n",
              "[97586 rows x 9 columns]"
            ]
          },
          "metadata": {},
          "execution_count": 46
        }
      ],
      "source": [
        "df['Valor'] = df['Valor'].apply(lambda x: float(x.replace(',', '.')))\n",
        "df"
      ]
    },
    {
      "cell_type": "markdown",
      "source": [
        "Convertendo as datas para datetime"
      ],
      "metadata": {
        "id": "NMVlJW9pHujU"
      }
    },
    {
      "cell_type": "code",
      "source": [
        "df['Data'] = pd.to_datetime(df['Data'], format=\"%d/%m/%Y\")\n",
        "df.info()"
      ],
      "metadata": {
        "id": "1O8B79Jz5B8T",
        "colab": {
          "base_uri": "https://localhost:8080/"
        },
        "outputId": "4591f6ed-95ec-4d4d-d6b8-fd2612be533b"
      },
      "execution_count": null,
      "outputs": [
        {
          "output_type": "stream",
          "name": "stdout",
          "text": [
            "<class 'pandas.core.frame.DataFrame'>\n",
            "RangeIndex: 97586 entries, 0 to 97585\n",
            "Data columns (total 9 columns):\n",
            " #   Column     Non-Null Count  Dtype         \n",
            "---  ------     --------------  -----         \n",
            " 0   Regiao     97586 non-null  object        \n",
            " 1   Estado     97586 non-null  object        \n",
            " 2   Municipio  97586 non-null  object        \n",
            " 3   Revenda    97586 non-null  object        \n",
            " 4   Produto    97586 non-null  object        \n",
            " 5   Valor      97586 non-null  float64       \n",
            " 6   Data       97586 non-null  datetime64[ns]\n",
            " 7   Bandeira   97586 non-null  object        \n",
            " 8   Mes        97586 non-null  object        \n",
            "dtypes: datetime64[ns](1), float64(1), object(7)\n",
            "memory usage: 6.7+ MB\n"
          ]
        }
      ]
    },
    {
      "cell_type": "markdown",
      "source": [
        "### **4.4 Estatísticas Descritivas**\n",
        "\n",
        "Agora que já conhecemos a estrutura de nossos dados, passamos para etapa de identificação da qualidade de nossos dados, por meio da aplicação de técnicas de estatística descritiva, com especial atenção para identificação de valores faltantes, presença de outliers, análise de correlações entre as variáveis, dentre outras questões relevantes nesta fase inicial."
      ],
      "metadata": {
        "id": "ufFYHD72hNGR"
      }
    },
    {
      "cell_type": "markdown",
      "metadata": {
        "id": "jNHprOEeeWfR"
      },
      "source": [
        "Verificar a quantidade de missing em cada coluna após a transformação"
      ]
    },
    {
      "cell_type": "code",
      "execution_count": null,
      "metadata": {
        "id": "5llceUD_KSVw",
        "colab": {
          "base_uri": "https://localhost:8080/"
        },
        "outputId": "746759a1-cd60-445e-d868-6343614522fd"
      },
      "outputs": [
        {
          "output_type": "execute_result",
          "data": {
            "text/plain": [
              "Regiao       0\n",
              "Estado       0\n",
              "Municipio    0\n",
              "Revenda      0\n",
              "Produto      0\n",
              "Valor        0\n",
              "Data         0\n",
              "Bandeira     0\n",
              "Mes          0\n",
              "dtype: int64"
            ]
          },
          "metadata": {},
          "execution_count": 48
        }
      ],
      "source": [
        "# Cálculo do percentual de dados faltantes no Dataset.\n",
        "\n",
        "df.isna().sum()"
      ]
    },
    {
      "cell_type": "markdown",
      "metadata": {
        "id": "xmE3E3iVVeNl"
      },
      "source": [
        "* Não existem valores nulos para serem removidos ou tratados"
      ]
    },
    {
      "cell_type": "code",
      "source": [
        "# Contrução dos histogramas das variáveis do dataset.\n",
        "\n",
        "df.hist(bins=15, figsize=(25,15));"
      ],
      "metadata": {
        "id": "ntdReA21hrDD",
        "colab": {
          "base_uri": "https://localhost:8080/",
          "height": 695
        },
        "outputId": "a0b31db6-a513-42f5-a2c4-75b05ddfb218"
      },
      "execution_count": null,
      "outputs": [
        {
          "output_type": "display_data",
          "data": {
            "image/png": "[encoded data removed]",
            "text/plain": [
              "<Figure size 1800x1080 with 2 Axes>"
            ]
          },
          "metadata": {
            "needs_background": "light"
          }
        }
      ]
    },
    {
      "cell_type": "markdown",
      "source": [
        "**Quanto a distribuição do histograma podemos verificar que:**\n",
        "\n",
        "* dsjfdsf **`Valor`** kjsljsdl;lf\n",
        "* dfshdjfksdklf"
      ],
      "metadata": {
        "id": "m2bPexUomSaO"
      }
    },
    {
      "cell_type": "code",
      "source": [
        "# Construindo os resumos estatísticos das variáveis numéricas usando a função describe.\n",
        "\n",
        "df.describe()"
      ],
      "metadata": {
        "id": "PCMY5gGVmLSW",
        "colab": {
          "base_uri": "https://localhost:8080/",
          "height": 300
        },
        "outputId": "e2ae41c9-3377-435f-f302-0aae35753832"
      },
      "execution_count": null,
      "outputs": [
        {
          "output_type": "execute_result",
          "data": {
            "text/html": [
              "\n",
              "  <div id=\"df-b71ac346-559f-43cd-9974-3cd82a532a2b\">\n",
              "    <div class=\"colab-df-container\">\n",
              "      <div>\n",
              "<style scoped>\n",
              "    .dataframe tbody tr th:only-of-type {\n",
              "        vertical-align: middle;\n",
              "    }\n",
              "\n",
              "    .dataframe tbody tr th {\n",
              "        vertical-align: top;\n",
              "    }\n",
              "\n",
              "    .dataframe thead th {\n",
              "        text-align: right;\n",
              "    }\n",
              "</style>\n",
              "<table border=\"1\" class=\"dataframe\">\n",
              "  <thead>\n",
              "    <tr style=\"text-align: right;\">\n",
              "      <th></th>\n",
              "      <th>Valor</th>\n",
              "    </tr>\n",
              "  </thead>\n",
              "  <tbody>\n",
              "    <tr>\n",
              "      <th>count</th>\n",
              "      <td>97586.000000</td>\n",
              "    </tr>\n",
              "    <tr>\n",
              "      <th>mean</th>\n",
              "      <td>5.384929</td>\n",
              "    </tr>\n",
              "    <tr>\n",
              "      <th>std</th>\n",
              "      <td>0.715136</td>\n",
              "    </tr>\n",
              "    <tr>\n",
              "      <th>min</th>\n",
              "      <td>3.097000</td>\n",
              "    </tr>\n",
              "    <tr>\n",
              "      <th>25%</th>\n",
              "      <td>4.990000</td>\n",
              "    </tr>\n",
              "    <tr>\n",
              "      <th>50%</th>\n",
              "      <td>5.550000</td>\n",
              "    </tr>\n",
              "    <tr>\n",
              "      <th>75%</th>\n",
              "      <td>5.899000</td>\n",
              "    </tr>\n",
              "    <tr>\n",
              "      <th>max</th>\n",
              "      <td>7.097000</td>\n",
              "    </tr>\n",
              "  </tbody>\n",
              "</table>\n",
              "</div>\n",
              "      <button class=\"colab-df-convert\" onclick=\"convertToInteractive('df-b71ac346-559f-43cd-9974-3cd82a532a2b')\"\n",
              "              title=\"Convert this dataframe to an interactive table.\"\n",
              "              style=\"display:none;\">\n",
              "        \n",
              "  <svg xmlns=\"http://www.w3.org/2000/svg\" height=\"24px\"viewBox=\"0 0 24 24\"\n",
              "       width=\"24px\">\n",
              "    <path d=\"M0 0h24v24H0V0z\" fill=\"none\"/>\n",
              "    <path d=\"M18.56 5.44l.94 2.06.94-2.06 2.06-.94-2.06-.94-.94-2.06-.94 2.06-2.06.94zm-11 1L8.5 8.5l.94-2.06 2.06-.94-2.06-.94L8.5 2.5l-.94 2.06-2.06.94zm10 10l.94 2.06.94-2.06 2.06-.94-2.06-.94-.94-2.06-.94 2.06-2.06.94z\"/><path d=\"M17.41 7.96l-1.37-1.37c-.4-.4-.92-.59-1.43-.59-.52 0-1.04.2-1.43.59L10.3 9.45l-7.72 7.72c-.78.78-.78 2.05 0 2.83L4 21.41c.39.39.9.59 1.41.59.51 0 1.02-.2 1.41-.59l7.78-7.78 2.81-2.81c.8-.78.8-2.07 0-2.86zM5.41 20L4 18.59l7.72-7.72 1.47 1.35L5.41 20z\"/>\n",
              "  </svg>\n",
              "      </button>\n",
              "      \n",
              "  <style>\n",
              "    .colab-df-container {\n",
              "      display:flex;\n",
              "      flex-wrap:wrap;\n",
              "      gap: 12px;\n",
              "    }\n",
              "\n",
              "    .colab-df-convert {\n",
              "      background-color: #E8F0FE;\n",
              "      border: none;\n",
              "      border-radius: 50%;\n",
              "      cursor: pointer;\n",
              "      display: none;\n",
              "      fill: #1967D2;\n",
              "      height: 32px;\n",
              "      padding: 0 0 0 0;\n",
              "      width: 32px;\n",
              "    }\n",
              "\n",
              "    .colab-df-convert:hover {\n",
              "      background-color: #E2EBFA;\n",
              "      box-shadow: 0px 1px 2px rgba(60, 64, 67, 0.3), 0px 1px 3px 1px rgba(60, 64, 67, 0.15);\n",
              "      fill: #174EA6;\n",
              "    }\n",
              "\n",
              "    [theme=dark] .colab-df-convert {\n",
              "      background-color: #3B4455;\n",
              "      fill: #D2E3FC;\n",
              "    }\n",
              "\n",
              "    [theme=dark] .colab-df-convert:hover {\n",
              "      background-color: #434B5C;\n",
              "      box-shadow: 0px 1px 3px 1px rgba(0, 0, 0, 0.15);\n",
              "      filter: drop-shadow(0px 1px 2px rgba(0, 0, 0, 0.3));\n",
              "      fill: #FFFFFF;\n",
              "    }\n",
              "  </style>\n",
              "\n",
              "      <script>\n",
              "        const buttonEl =\n",
              "          document.querySelector('#df-b71ac346-559f-43cd-9974-3cd82a532a2b button.colab-df-convert');\n",
              "        buttonEl.style.display =\n",
              "          google.colab.kernel.accessAllowed ? 'block' : 'none';\n",
              "\n",
              "        async function convertToInteractive(key) {\n",
              "          const element = document.querySelector('#df-b71ac346-559f-43cd-9974-3cd82a532a2b');\n",
              "          const dataTable =\n",
              "            await google.colab.kernel.invokeFunction('convertToInteractive',\n",
              "                                                     [key], {});\n",
              "          if (!dataTable) return;\n",
              "\n",
              "          const docLinkHtml = 'Like what you see? Visit the ' +\n",
              "            '<a target=\"_blank\" href=https://colab.research.google.com/notebooks/data_table.ipynb>data table notebook</a>'\n",
              "            + ' to learn more about interactive tables.';\n",
              "          element.innerHTML = '';\n",
              "          dataTable['output_type'] = 'display_data';\n",
              "          await google.colab.output.renderOutput(dataTable, element);\n",
              "          const docLink = document.createElement('div');\n",
              "          docLink.innerHTML = docLinkHtml;\n",
              "          element.appendChild(docLink);\n",
              "        }\n",
              "      </script>\n",
              "    </div>\n",
              "  </div>\n",
              "  "
            ],
            "text/plain": [
              "              Valor\n",
              "count  97586.000000\n",
              "mean       5.384929\n",
              "std        0.715136\n",
              "min        3.097000\n",
              "25%        4.990000\n",
              "50%        5.550000\n",
              "75%        5.899000\n",
              "max        7.097000"
            ]
          },
          "metadata": {},
          "execution_count": 50
        }
      ]
    },
    {
      "cell_type": "markdown",
      "source": [
        "## **Quanto ao resumo das estatísticas, das variáveis numéricas do dataset, podemos verificar que:**\n",
        "\n",
        "* ksdjkfsdjkfl\n",
        "* kdsldjsklf"
      ],
      "metadata": {
        "id": "zZaeDeCEmaSu"
      }
    },
    {
      "cell_type": "markdown",
      "source": [
        "### **4.5 Correlação dos Dados**\n",
        "\n",
        "verificar a possibilidade de fazer correlação "
      ],
      "metadata": {
        "id": "_GUwWFEgoD6k"
      }
    },
    {
      "cell_type": "markdown",
      "metadata": {
        "id": "FkSq5jaZdARL"
      },
      "source": [
        "## **5. Análise exploratória** \n",
        "\n",
        "Problemas Investigados\n"
      ]
    },
    {
      "cell_type": "markdown",
      "metadata": {
        "id": "9auJILNuSQUH"
      },
      "source": [
        "#### ***01: Brunna***"
      ]
    },
    {
      "cell_type": "markdown",
      "metadata": {
        "id": "ssx5RBswSUvi"
      },
      "source": [
        "1) Como se comportaram o preço dos combustíveis durante os dois meses citados? Os valores do etanol e da gasolina tiveram uma tendência de queda ou diminuição?"
      ]
    },
    {
      "cell_type": "code",
      "source": [
        "etanol = df.query('Produto == \"ETANOL\"')\n",
        "gasolina = df.query('Produto == \"GASOLINA\"')\n",
        "\n",
        "evolucao_precos_etanol = etanol.sort_values(['Data']).groupby('Data')['Valor'].mean()\n",
        "evolucao_precos_gasolina = gasolina.sort_values(['Data']).groupby('Data')['Valor'].mean()"
      ],
      "metadata": {
        "id": "hugZejEL4-3r"
      },
      "execution_count": null,
      "outputs": []
    },
    {
      "cell_type": "code",
      "source": [
        "fig, ax = plt.subplots(figsize=(18, 6))\n",
        "\n",
        "# rotacionar das datas\n",
        "fig.autofmt_xdate()\n",
        "\n",
        "plt.grid(True)\n",
        "\n",
        "# Adiconando títulos\n",
        "plt.title(\"Evolução dos valores de combustíveis nos meses de junho e julho de 2021\", loc='left', fontsize=16, fontweight=0, color='darkslategray')\n",
        "plt.xlabel(\"Data\")\n",
        "plt.ylabel(\"Valor\")\n",
        "\n",
        "# Mostrando a evolução\n",
        "plt.plot(evolucao_precos_etanol)\n",
        "plt.plot(evolucao_precos_gasolina)\n",
        "\n",
        "#Adicionando legenda\n",
        "legend = plt.legend(['ETANOL','GASOLINA'], title = \"Produto\", title_fontsize = 20)\n",
        "legend._legend_box.sep = 18"
      ],
      "metadata": {
        "id": "G3bqTYnVpYhk",
        "colab": {
          "base_uri": "https://localhost:8080/",
          "height": 411
        },
        "outputId": "97479d03-fa7c-4d3c-dfee-4fd079340595"
      },
      "execution_count": 116,
      "outputs": [
        {
          "output_type": "display_data",
          "data": {
            "image/png": "[encoded data removed]",
            "text/plain": [
              "<Figure size 1296x432 with 1 Axes>"
            ]
          },
          "metadata": {}
        }
      ]
    },
    {
      "cell_type": "code",
      "source": [
        "df.groupby(['Data','Produto'])['Valor'].describe()"
      ],
      "metadata": {
        "id": "fAUbVe6r_5OU",
        "colab": {
          "base_uri": "https://localhost:8080/",
          "height": 454
        },
        "outputId": "4d6ce37a-e347-4136-8a9c-17e8023a7bfd"
      },
      "execution_count": null,
      "outputs": [
        {
          "output_type": "execute_result",
          "data": {
            "text/html": [
              "\n",
              "  <div id=\"df-077d6962-b763-4c2c-9ccf-fe0fabe520ba\">\n",
              "    <div class=\"colab-df-container\">\n",
              "      <div>\n",
              "<style scoped>\n",
              "    .dataframe tbody tr th:only-of-type {\n",
              "        vertical-align: middle;\n",
              "    }\n",
              "\n",
              "    .dataframe tbody tr th {\n",
              "        vertical-align: top;\n",
              "    }\n",
              "\n",
              "    .dataframe thead th {\n",
              "        text-align: right;\n",
              "    }\n",
              "</style>\n",
              "<table border=\"1\" class=\"dataframe\">\n",
              "  <thead>\n",
              "    <tr style=\"text-align: right;\">\n",
              "      <th></th>\n",
              "      <th></th>\n",
              "      <th>count</th>\n",
              "      <th>mean</th>\n",
              "      <th>std</th>\n",
              "      <th>min</th>\n",
              "      <th>25%</th>\n",
              "      <th>50%</th>\n",
              "      <th>75%</th>\n",
              "      <th>max</th>\n",
              "    </tr>\n",
              "    <tr>\n",
              "      <th>Data</th>\n",
              "      <th>Produto</th>\n",
              "      <th></th>\n",
              "      <th></th>\n",
              "      <th></th>\n",
              "      <th></th>\n",
              "      <th></th>\n",
              "      <th></th>\n",
              "      <th></th>\n",
              "      <th></th>\n",
              "    </tr>\n",
              "  </thead>\n",
              "  <tbody>\n",
              "    <tr>\n",
              "      <th rowspan=\"2\" valign=\"top\">2021-06-01</th>\n",
              "      <th>ETANOL</th>\n",
              "      <td>884.0</td>\n",
              "      <td>4.517171</td>\n",
              "      <td>0.497670</td>\n",
              "      <td>3.799</td>\n",
              "      <td>4.1490</td>\n",
              "      <td>4.379</td>\n",
              "      <td>4.86100</td>\n",
              "      <td>6.100</td>\n",
              "    </tr>\n",
              "    <tr>\n",
              "      <th>GASOLINA</th>\n",
              "      <td>1731.0</td>\n",
              "      <td>5.693404</td>\n",
              "      <td>0.339301</td>\n",
              "      <td>4.870</td>\n",
              "      <td>5.4490</td>\n",
              "      <td>5.650</td>\n",
              "      <td>5.94800</td>\n",
              "      <td>6.890</td>\n",
              "    </tr>\n",
              "    <tr>\n",
              "      <th rowspan=\"2\" valign=\"top\">2021-06-02</th>\n",
              "      <th>ETANOL</th>\n",
              "      <td>1009.0</td>\n",
              "      <td>4.496550</td>\n",
              "      <td>0.496872</td>\n",
              "      <td>3.549</td>\n",
              "      <td>4.0990</td>\n",
              "      <td>4.299</td>\n",
              "      <td>4.85000</td>\n",
              "      <td>6.890</td>\n",
              "    </tr>\n",
              "    <tr>\n",
              "      <th>GASOLINA</th>\n",
              "      <td>1932.0</td>\n",
              "      <td>5.700649</td>\n",
              "      <td>0.352055</td>\n",
              "      <td>4.398</td>\n",
              "      <td>5.4490</td>\n",
              "      <td>5.690</td>\n",
              "      <td>5.95900</td>\n",
              "      <td>6.999</td>\n",
              "    </tr>\n",
              "    <tr>\n",
              "      <th>2021-06-03</th>\n",
              "      <th>ETANOL</th>\n",
              "      <td>282.0</td>\n",
              "      <td>4.727348</td>\n",
              "      <td>0.554527</td>\n",
              "      <td>3.699</td>\n",
              "      <td>4.1990</td>\n",
              "      <td>4.799</td>\n",
              "      <td>4.99900</td>\n",
              "      <td>5.999</td>\n",
              "    </tr>\n",
              "    <tr>\n",
              "      <th>...</th>\n",
              "      <th>...</th>\n",
              "      <td>...</td>\n",
              "      <td>...</td>\n",
              "      <td>...</td>\n",
              "      <td>...</td>\n",
              "      <td>...</td>\n",
              "      <td>...</td>\n",
              "      <td>...</td>\n",
              "      <td>...</td>\n",
              "    </tr>\n",
              "    <tr>\n",
              "      <th>2021-07-28</th>\n",
              "      <th>GASOLINA</th>\n",
              "      <td>1882.0</td>\n",
              "      <td>5.898512</td>\n",
              "      <td>0.359835</td>\n",
              "      <td>4.899</td>\n",
              "      <td>5.5990</td>\n",
              "      <td>5.898</td>\n",
              "      <td>6.18000</td>\n",
              "      <td>6.999</td>\n",
              "    </tr>\n",
              "    <tr>\n",
              "      <th rowspan=\"2\" valign=\"top\">2021-07-29</th>\n",
              "      <th>ETANOL</th>\n",
              "      <td>418.0</td>\n",
              "      <td>4.554981</td>\n",
              "      <td>0.592926</td>\n",
              "      <td>3.679</td>\n",
              "      <td>4.0815</td>\n",
              "      <td>4.399</td>\n",
              "      <td>4.95000</td>\n",
              "      <td>6.797</td>\n",
              "    </tr>\n",
              "    <tr>\n",
              "      <th>GASOLINA</th>\n",
              "      <td>887.0</td>\n",
              "      <td>5.923453</td>\n",
              "      <td>0.396760</td>\n",
              "      <td>5.079</td>\n",
              "      <td>5.5990</td>\n",
              "      <td>5.959</td>\n",
              "      <td>6.19900</td>\n",
              "      <td>7.097</td>\n",
              "    </tr>\n",
              "    <tr>\n",
              "      <th rowspan=\"2\" valign=\"top\">2021-07-30</th>\n",
              "      <th>ETANOL</th>\n",
              "      <td>35.0</td>\n",
              "      <td>4.404714</td>\n",
              "      <td>0.403432</td>\n",
              "      <td>3.980</td>\n",
              "      <td>4.0945</td>\n",
              "      <td>4.199</td>\n",
              "      <td>4.92900</td>\n",
              "      <td>5.190</td>\n",
              "    </tr>\n",
              "    <tr>\n",
              "      <th>GASOLINA</th>\n",
              "      <td>70.0</td>\n",
              "      <td>5.744300</td>\n",
              "      <td>0.325821</td>\n",
              "      <td>5.349</td>\n",
              "      <td>5.4825</td>\n",
              "      <td>5.623</td>\n",
              "      <td>6.07975</td>\n",
              "      <td>6.392</td>\n",
              "    </tr>\n",
              "  </tbody>\n",
              "</table>\n",
              "<p>102 rows × 8 columns</p>\n",
              "</div>\n",
              "      <button class=\"colab-df-convert\" onclick=\"convertToInteractive('df-077d6962-b763-4c2c-9ccf-fe0fabe520ba')\"\n",
              "              title=\"Convert this dataframe to an interactive table.\"\n",
              "              style=\"display:none;\">\n",
              "        \n",
              "  <svg xmlns=\"http://www.w3.org/2000/svg\" height=\"24px\"viewBox=\"0 0 24 24\"\n",
              "       width=\"24px\">\n",
              "    <path d=\"M0 0h24v24H0V0z\" fill=\"none\"/>\n",
              "    <path d=\"M18.56 5.44l.94 2.06.94-2.06 2.06-.94-2.06-.94-.94-2.06-.94 2.06-2.06.94zm-11 1L8.5 8.5l.94-2.06 2.06-.94-2.06-.94L8.5 2.5l-.94 2.06-2.06.94zm10 10l.94 2.06.94-2.06 2.06-.94-2.06-.94-.94-2.06-.94 2.06-2.06.94z\"/><path d=\"M17.41 7.96l-1.37-1.37c-.4-.4-.92-.59-1.43-.59-.52 0-1.04.2-1.43.59L10.3 9.45l-7.72 7.72c-.78.78-.78 2.05 0 2.83L4 21.41c.39.39.9.59 1.41.59.51 0 1.02-.2 1.41-.59l7.78-7.78 2.81-2.81c.8-.78.8-2.07 0-2.86zM5.41 20L4 18.59l7.72-7.72 1.47 1.35L5.41 20z\"/>\n",
              "  </svg>\n",
              "      </button>\n",
              "      \n",
              "  <style>\n",
              "    .colab-df-container {\n",
              "      display:flex;\n",
              "      flex-wrap:wrap;\n",
              "      gap: 12px;\n",
              "    }\n",
              "\n",
              "    .colab-df-convert {\n",
              "      background-color: #E8F0FE;\n",
              "      border: none;\n",
              "      border-radius: 50%;\n",
              "      cursor: pointer;\n",
              "      display: none;\n",
              "      fill: #1967D2;\n",
              "      height: 32px;\n",
              "      padding: 0 0 0 0;\n",
              "      width: 32px;\n",
              "    }\n",
              "\n",
              "    .colab-df-convert:hover {\n",
              "      background-color: #E2EBFA;\n",
              "      box-shadow: 0px 1px 2px rgba(60, 64, 67, 0.3), 0px 1px 3px 1px rgba(60, 64, 67, 0.15);\n",
              "      fill: #174EA6;\n",
              "    }\n",
              "\n",
              "    [theme=dark] .colab-df-convert {\n",
              "      background-color: #3B4455;\n",
              "      fill: #D2E3FC;\n",
              "    }\n",
              "\n",
              "    [theme=dark] .colab-df-convert:hover {\n",
              "      background-color: #434B5C;\n",
              "      box-shadow: 0px 1px 3px 1px rgba(0, 0, 0, 0.15);\n",
              "      filter: drop-shadow(0px 1px 2px rgba(0, 0, 0, 0.3));\n",
              "      fill: #FFFFFF;\n",
              "    }\n",
              "  </style>\n",
              "\n",
              "      <script>\n",
              "        const buttonEl =\n",
              "          document.querySelector('#df-077d6962-b763-4c2c-9ccf-fe0fabe520ba button.colab-df-convert');\n",
              "        buttonEl.style.display =\n",
              "          google.colab.kernel.accessAllowed ? 'block' : 'none';\n",
              "\n",
              "        async function convertToInteractive(key) {\n",
              "          const element = document.querySelector('#df-077d6962-b763-4c2c-9ccf-fe0fabe520ba');\n",
              "          const dataTable =\n",
              "            await google.colab.kernel.invokeFunction('convertToInteractive',\n",
              "                                                     [key], {});\n",
              "          if (!dataTable) return;\n",
              "\n",
              "          const docLinkHtml = 'Like what you see? Visit the ' +\n",
              "            '<a target=\"_blank\" href=https://colab.research.google.com/notebooks/data_table.ipynb>data table notebook</a>'\n",
              "            + ' to learn more about interactive tables.';\n",
              "          element.innerHTML = '';\n",
              "          dataTable['output_type'] = 'display_data';\n",
              "          await google.colab.output.renderOutput(dataTable, element);\n",
              "          const docLink = document.createElement('div');\n",
              "          docLink.innerHTML = docLinkHtml;\n",
              "          element.appendChild(docLink);\n",
              "        }\n",
              "      </script>\n",
              "    </div>\n",
              "  </div>\n",
              "  "
            ],
            "text/plain": [
              "                      count      mean       std  ...    50%      75%    max\n",
              "Data       Produto                               ...                       \n",
              "2021-06-01 ETANOL     884.0  4.517171  0.497670  ...  4.379  4.86100  6.100\n",
              "           GASOLINA  1731.0  5.693404  0.339301  ...  5.650  5.94800  6.890\n",
              "2021-06-02 ETANOL    1009.0  4.496550  0.496872  ...  4.299  4.85000  6.890\n",
              "           GASOLINA  1932.0  5.700649  0.352055  ...  5.690  5.95900  6.999\n",
              "2021-06-03 ETANOL     282.0  4.727348  0.554527  ...  4.799  4.99900  5.999\n",
              "...                     ...       ...       ...  ...    ...      ...    ...\n",
              "2021-07-28 GASOLINA  1882.0  5.898512  0.359835  ...  5.898  6.18000  6.999\n",
              "2021-07-29 ETANOL     418.0  4.554981  0.592926  ...  4.399  4.95000  6.797\n",
              "           GASOLINA   887.0  5.923453  0.396760  ...  5.959  6.19900  7.097\n",
              "2021-07-30 ETANOL      35.0  4.404714  0.403432  ...  4.199  4.92900  5.190\n",
              "           GASOLINA    70.0  5.744300  0.325821  ...  5.623  6.07975  6.392\n",
              "\n",
              "[102 rows x 8 columns]"
            ]
          },
          "metadata": {},
          "execution_count": 53
        }
      ]
    },
    {
      "cell_type": "code",
      "source": [
        "df.groupby(df['Data'].dt.month).mean()"
      ],
      "metadata": {
        "id": "fGDlYcvPLdIX",
        "colab": {
          "base_uri": "https://localhost:8080/",
          "height": 143
        },
        "outputId": "020038e7-8295-412e-a290-2d4414d72d20"
      },
      "execution_count": null,
      "outputs": [
        {
          "output_type": "execute_result",
          "data": {
            "text/html": [
              "\n",
              "  <div id=\"df-02198744-27c3-4115-beb1-2d9a4eb8589d\">\n",
              "    <div class=\"colab-df-container\">\n",
              "      <div>\n",
              "<style scoped>\n",
              "    .dataframe tbody tr th:only-of-type {\n",
              "        vertical-align: middle;\n",
              "    }\n",
              "\n",
              "    .dataframe tbody tr th {\n",
              "        vertical-align: top;\n",
              "    }\n",
              "\n",
              "    .dataframe thead th {\n",
              "        text-align: right;\n",
              "    }\n",
              "</style>\n",
              "<table border=\"1\" class=\"dataframe\">\n",
              "  <thead>\n",
              "    <tr style=\"text-align: right;\">\n",
              "      <th></th>\n",
              "      <th>Valor</th>\n",
              "    </tr>\n",
              "    <tr>\n",
              "      <th>Data</th>\n",
              "      <th></th>\n",
              "    </tr>\n",
              "  </thead>\n",
              "  <tbody>\n",
              "    <tr>\n",
              "      <th>6</th>\n",
              "      <td>5.339212</td>\n",
              "    </tr>\n",
              "    <tr>\n",
              "      <th>7</th>\n",
              "      <td>5.432450</td>\n",
              "    </tr>\n",
              "  </tbody>\n",
              "</table>\n",
              "</div>\n",
              "      <button class=\"colab-df-convert\" onclick=\"convertToInteractive('df-02198744-27c3-4115-beb1-2d9a4eb8589d')\"\n",
              "              title=\"Convert this dataframe to an interactive table.\"\n",
              "              style=\"display:none;\">\n",
              "        \n",
              "  <svg xmlns=\"http://www.w3.org/2000/svg\" height=\"24px\"viewBox=\"0 0 24 24\"\n",
              "       width=\"24px\">\n",
              "    <path d=\"M0 0h24v24H0V0z\" fill=\"none\"/>\n",
              "    <path d=\"M18.56 5.44l.94 2.06.94-2.06 2.06-.94-2.06-.94-.94-2.06-.94 2.06-2.06.94zm-11 1L8.5 8.5l.94-2.06 2.06-.94-2.06-.94L8.5 2.5l-.94 2.06-2.06.94zm10 10l.94 2.06.94-2.06 2.06-.94-2.06-.94-.94-2.06-.94 2.06-2.06.94z\"/><path d=\"M17.41 7.96l-1.37-1.37c-.4-.4-.92-.59-1.43-.59-.52 0-1.04.2-1.43.59L10.3 9.45l-7.72 7.72c-.78.78-.78 2.05 0 2.83L4 21.41c.39.39.9.59 1.41.59.51 0 1.02-.2 1.41-.59l7.78-7.78 2.81-2.81c.8-.78.8-2.07 0-2.86zM5.41 20L4 18.59l7.72-7.72 1.47 1.35L5.41 20z\"/>\n",
              "  </svg>\n",
              "      </button>\n",
              "      \n",
              "  <style>\n",
              "    .colab-df-container {\n",
              "      display:flex;\n",
              "      flex-wrap:wrap;\n",
              "      gap: 12px;\n",
              "    }\n",
              "\n",
              "    .colab-df-convert {\n",
              "      background-color: #E8F0FE;\n",
              "      border: none;\n",
              "      border-radius: 50%;\n",
              "      cursor: pointer;\n",
              "      display: none;\n",
              "      fill: #1967D2;\n",
              "      height: 32px;\n",
              "      padding: 0 0 0 0;\n",
              "      width: 32px;\n",
              "    }\n",
              "\n",
              "    .colab-df-convert:hover {\n",
              "      background-color: #E2EBFA;\n",
              "      box-shadow: 0px 1px 2px rgba(60, 64, 67, 0.3), 0px 1px 3px 1px rgba(60, 64, 67, 0.15);\n",
              "      fill: #174EA6;\n",
              "    }\n",
              "\n",
              "    [theme=dark] .colab-df-convert {\n",
              "      background-color: #3B4455;\n",
              "      fill: #D2E3FC;\n",
              "    }\n",
              "\n",
              "    [theme=dark] .colab-df-convert:hover {\n",
              "      background-color: #434B5C;\n",
              "      box-shadow: 0px 1px 3px 1px rgba(0, 0, 0, 0.15);\n",
              "      filter: drop-shadow(0px 1px 2px rgba(0, 0, 0, 0.3));\n",
              "      fill: #FFFFFF;\n",
              "    }\n",
              "  </style>\n",
              "\n",
              "      <script>\n",
              "        const buttonEl =\n",
              "          document.querySelector('#df-02198744-27c3-4115-beb1-2d9a4eb8589d button.colab-df-convert');\n",
              "        buttonEl.style.display =\n",
              "          google.colab.kernel.accessAllowed ? 'block' : 'none';\n",
              "\n",
              "        async function convertToInteractive(key) {\n",
              "          const element = document.querySelector('#df-02198744-27c3-4115-beb1-2d9a4eb8589d');\n",
              "          const dataTable =\n",
              "            await google.colab.kernel.invokeFunction('convertToInteractive',\n",
              "                                                     [key], {});\n",
              "          if (!dataTable) return;\n",
              "\n",
              "          const docLinkHtml = 'Like what you see? Visit the ' +\n",
              "            '<a target=\"_blank\" href=https://colab.research.google.com/notebooks/data_table.ipynb>data table notebook</a>'\n",
              "            + ' to learn more about interactive tables.';\n",
              "          element.innerHTML = '';\n",
              "          dataTable['output_type'] = 'display_data';\n",
              "          await google.colab.output.renderOutput(dataTable, element);\n",
              "          const docLink = document.createElement('div');\n",
              "          docLink.innerHTML = docLinkHtml;\n",
              "          element.appendChild(docLink);\n",
              "        }\n",
              "      </script>\n",
              "    </div>\n",
              "  </div>\n",
              "  "
            ],
            "text/plain": [
              "         Valor\n",
              "Data          \n",
              "6     5.339212\n",
              "7     5.432450"
            ]
          },
          "metadata": {},
          "execution_count": 54
        }
      ]
    },
    {
      "cell_type": "markdown",
      "source": [
        "**Quanto às questões ligadas à evolução dos valores dos combustíveis, podemos verificar que:**\n",
        "\n",
        "* A **gasolina** começou o mês de junho, com o valor médio de **5,693 reais**  e fechou o mês  de julho com uma média de **5,744 reais**. Apesar das oscilações durante o período o valor manteve-se estável com uma alta de apenas 1%.\n",
        "\n",
        "* No início de junho o **etanol** estava em **4,517 reais** o litro. E fechou o mês de julho com uma média de **4,404 reais** apresentando uma queda de 2,5%.\n",
        "\n",
        "* De maneira geral os combustíveis tiveram em junto teve seu preço médio em **5,339 reais** e em julho em **5,432 reais**, tendo um aumento de **1,74 %**\n",
        "\n",
        "* Comparando os dois combustíveis verificamos que o etanol sofre maior oscilação de valores do que a gasolina que teve seu valor mais estável."
      ],
      "metadata": {
        "id": "EDDrkRuY9fAk"
      }
    },
    {
      "cell_type": "markdown",
      "metadata": {
        "id": "d_ek4gR5XP6D"
      },
      "source": [
        "2) Qual o preço médio da gasolina e do etanol nesses dois meses?"
      ]
    },
    {
      "cell_type": "code",
      "source": [
        "df.groupby('Produto')['Valor'].describe()"
      ],
      "metadata": {
        "id": "zNiOtUwfDyLF",
        "colab": {
          "base_uri": "https://localhost:8080/",
          "height": 143
        },
        "outputId": "0afff295-3330-4c56-dc87-778ed9b26861"
      },
      "execution_count": null,
      "outputs": [
        {
          "output_type": "execute_result",
          "data": {
            "text/html": [
              "\n",
              "  <div id=\"df-18c6a445-6924-4cf0-8123-d321f43e5bbc\">\n",
              "    <div class=\"colab-df-container\">\n",
              "      <div>\n",
              "<style scoped>\n",
              "    .dataframe tbody tr th:only-of-type {\n",
              "        vertical-align: middle;\n",
              "    }\n",
              "\n",
              "    .dataframe tbody tr th {\n",
              "        vertical-align: top;\n",
              "    }\n",
              "\n",
              "    .dataframe thead th {\n",
              "        text-align: right;\n",
              "    }\n",
              "</style>\n",
              "<table border=\"1\" class=\"dataframe\">\n",
              "  <thead>\n",
              "    <tr style=\"text-align: right;\">\n",
              "      <th></th>\n",
              "      <th>count</th>\n",
              "      <th>mean</th>\n",
              "      <th>std</th>\n",
              "      <th>min</th>\n",
              "      <th>25%</th>\n",
              "      <th>50%</th>\n",
              "      <th>75%</th>\n",
              "      <th>max</th>\n",
              "    </tr>\n",
              "    <tr>\n",
              "      <th>Produto</th>\n",
              "      <th></th>\n",
              "      <th></th>\n",
              "      <th></th>\n",
              "      <th></th>\n",
              "      <th></th>\n",
              "      <th></th>\n",
              "      <th></th>\n",
              "      <th></th>\n",
              "    </tr>\n",
              "  </thead>\n",
              "  <tbody>\n",
              "    <tr>\n",
              "      <th>ETANOL</th>\n",
              "      <td>33096.0</td>\n",
              "      <td>4.581825</td>\n",
              "      <td>0.533944</td>\n",
              "      <td>3.097</td>\n",
              "      <td>4.159</td>\n",
              "      <td>4.399</td>\n",
              "      <td>4.997</td>\n",
              "      <td>6.999</td>\n",
              "    </tr>\n",
              "    <tr>\n",
              "      <th>GASOLINA</th>\n",
              "      <td>64490.0</td>\n",
              "      <td>5.797078</td>\n",
              "      <td>0.355950</td>\n",
              "      <td>4.199</td>\n",
              "      <td>5.520</td>\n",
              "      <td>5.790</td>\n",
              "      <td>5.999</td>\n",
              "      <td>7.097</td>\n",
              "    </tr>\n",
              "  </tbody>\n",
              "</table>\n",
              "</div>\n",
              "      <button class=\"colab-df-convert\" onclick=\"convertToInteractive('df-18c6a445-6924-4cf0-8123-d321f43e5bbc')\"\n",
              "              title=\"Convert this dataframe to an interactive table.\"\n",
              "              style=\"display:none;\">\n",
              "        \n",
              "  <svg xmlns=\"http://www.w3.org/2000/svg\" height=\"24px\"viewBox=\"0 0 24 24\"\n",
              "       width=\"24px\">\n",
              "    <path d=\"M0 0h24v24H0V0z\" fill=\"none\"/>\n",
              "    <path d=\"M18.56 5.44l.94 2.06.94-2.06 2.06-.94-2.06-.94-.94-2.06-.94 2.06-2.06.94zm-11 1L8.5 8.5l.94-2.06 2.06-.94-2.06-.94L8.5 2.5l-.94 2.06-2.06.94zm10 10l.94 2.06.94-2.06 2.06-.94-2.06-.94-.94-2.06-.94 2.06-2.06.94z\"/><path d=\"M17.41 7.96l-1.37-1.37c-.4-.4-.92-.59-1.43-.59-.52 0-1.04.2-1.43.59L10.3 9.45l-7.72 7.72c-.78.78-.78 2.05 0 2.83L4 21.41c.39.39.9.59 1.41.59.51 0 1.02-.2 1.41-.59l7.78-7.78 2.81-2.81c.8-.78.8-2.07 0-2.86zM5.41 20L4 18.59l7.72-7.72 1.47 1.35L5.41 20z\"/>\n",
              "  </svg>\n",
              "      </button>\n",
              "      \n",
              "  <style>\n",
              "    .colab-df-container {\n",
              "      display:flex;\n",
              "      flex-wrap:wrap;\n",
              "      gap: 12px;\n",
              "    }\n",
              "\n",
              "    .colab-df-convert {\n",
              "      background-color: #E8F0FE;\n",
              "      border: none;\n",
              "      border-radius: 50%;\n",
              "      cursor: pointer;\n",
              "      display: none;\n",
              "      fill: #1967D2;\n",
              "      height: 32px;\n",
              "      padding: 0 0 0 0;\n",
              "      width: 32px;\n",
              "    }\n",
              "\n",
              "    .colab-df-convert:hover {\n",
              "      background-color: #E2EBFA;\n",
              "      box-shadow: 0px 1px 2px rgba(60, 64, 67, 0.3), 0px 1px 3px 1px rgba(60, 64, 67, 0.15);\n",
              "      fill: #174EA6;\n",
              "    }\n",
              "\n",
              "    [theme=dark] .colab-df-convert {\n",
              "      background-color: #3B4455;\n",
              "      fill: #D2E3FC;\n",
              "    }\n",
              "\n",
              "    [theme=dark] .colab-df-convert:hover {\n",
              "      background-color: #434B5C;\n",
              "      box-shadow: 0px 1px 3px 1px rgba(0, 0, 0, 0.15);\n",
              "      filter: drop-shadow(0px 1px 2px rgba(0, 0, 0, 0.3));\n",
              "      fill: #FFFFFF;\n",
              "    }\n",
              "  </style>\n",
              "\n",
              "      <script>\n",
              "        const buttonEl =\n",
              "          document.querySelector('#df-18c6a445-6924-4cf0-8123-d321f43e5bbc button.colab-df-convert');\n",
              "        buttonEl.style.display =\n",
              "          google.colab.kernel.accessAllowed ? 'block' : 'none';\n",
              "\n",
              "        async function convertToInteractive(key) {\n",
              "          const element = document.querySelector('#df-18c6a445-6924-4cf0-8123-d321f43e5bbc');\n",
              "          const dataTable =\n",
              "            await google.colab.kernel.invokeFunction('convertToInteractive',\n",
              "                                                     [key], {});\n",
              "          if (!dataTable) return;\n",
              "\n",
              "          const docLinkHtml = 'Like what you see? Visit the ' +\n",
              "            '<a target=\"_blank\" href=https://colab.research.google.com/notebooks/data_table.ipynb>data table notebook</a>'\n",
              "            + ' to learn more about interactive tables.';\n",
              "          element.innerHTML = '';\n",
              "          dataTable['output_type'] = 'display_data';\n",
              "          await google.colab.output.renderOutput(dataTable, element);\n",
              "          const docLink = document.createElement('div');\n",
              "          docLink.innerHTML = docLinkHtml;\n",
              "          element.appendChild(docLink);\n",
              "        }\n",
              "      </script>\n",
              "    </div>\n",
              "  </div>\n",
              "  "
            ],
            "text/plain": [
              "            count      mean       std    min    25%    50%    75%    max\n",
              "Produto                                                                 \n",
              "ETANOL    33096.0  4.581825  0.533944  3.097  4.159  4.399  4.997  6.999\n",
              "GASOLINA  64490.0  5.797078  0.355950  4.199  5.520  5.790  5.999  7.097"
            ]
          },
          "metadata": {},
          "execution_count": 55
        }
      ]
    },
    {
      "cell_type": "code",
      "source": [
        "df.boxplot(by=[\"Produto\"], figsize=(16,6), fontsize=12, vert=False)"
      ],
      "metadata": {
        "id": "21_FdFxqNwLs",
        "colab": {
          "base_uri": "https://localhost:8080/",
          "height": 498
        },
        "outputId": "51ef8a58-4990-45ca-c6cb-8c61bc235362"
      },
      "execution_count": null,
      "outputs": [
        {
          "output_type": "stream",
          "name": "stderr",
          "text": [
            "/usr/local/lib/python3.7/dist-packages/matplotlib/cbook/__init__.py:1376: VisibleDeprecationWarning: Creating an ndarray from ragged nested sequences (which is a list-or-tuple of lists-or-tuples-or ndarrays with different lengths or shapes) is deprecated. If you meant to do this, you must specify 'dtype=object' when creating the ndarray.\n",
            "  X = np.atleast_1d(X.T if isinstance(X, np.ndarray) else np.asarray(X))\n"
          ]
        },
        {
          "output_type": "execute_result",
          "data": {
            "text/plain": [
              "<matplotlib.axes._subplots.AxesSubplot at 0x7f21f09f2450>"
            ]
          },
          "metadata": {},
          "execution_count": 56
        },
        {
          "output_type": "display_data",
          "data": {
            "image/png": "[encoded data removed]",
            "text/plain": [
              "<Figure size 1152x432 with 1 Axes>"
            ]
          },
          "metadata": {
            "needs_background": "light"
          }
        }
      ]
    },
    {
      "cell_type": "markdown",
      "source": [
        "**Quanto às questões ligadas aos valores dos combustíveis, podemos verificar que:**\n",
        "\n",
        "* O valor médio do **etanol** nos meses de junho e julho de 2021 fica em torno de **4,581 reais**, com desvio padrão de **0,533**, mediana de **4,399 reais**, com valores máximos chegando a **6,999 reais**. Cabendo ressaltar que 75% dos preços estão abaixo do valor de **4,997** reais.\n",
        "\n",
        "* O valor médio da **gasolina** nos meses de junho e julho de 2021 fica em torno de **5,797 reais**, com desvio padrão de **0,355**, mediana de **5,790 reais**, com valores máximos chegando a **7,097 reais**. Cabendo ressaltar que 75% dos preços estão abaixo do valor de **5,999** reais.\n"
      ],
      "metadata": {
        "id": "nV74-NnDDU7E"
      }
    },
    {
      "cell_type": "markdown",
      "metadata": {
        "id": "HOoEaA_6k9B9"
      },
      "source": [
        "3) Sugestão de pergunta:  Quais foram as 3 revendas com maiores e as 3 com menores preços médios no período e em qual estado ela está localizada? "
      ]
    },
    {
      "cell_type": "code",
      "source": [
        "a = df.groupby(['Estado', 'Revenda'])['Valor'].mean().sort_values(ascending=False)\n",
        "print(a[:3])\n",
        "print(a[-3:])\n"
      ],
      "metadata": {
        "colab": {
          "base_uri": "https://localhost:8080/"
        },
        "id": "k-ZiZjcqiVLu",
        "outputId": "a74da417-0945-4dc2-94d0-9fd3cdbdae2d"
      },
      "execution_count": null,
      "outputs": [
        {
          "output_type": "stream",
          "name": "stdout",
          "text": [
            "Estado  Revenda                  \n",
            "AC      J. ARAUJO DE OLIVEIRA        6.923333\n",
            "        MARCOS A.S. CORDEIRO         6.896667\n",
            "        LUBRAS DISTRIBUIDORA LTDA    6.893333\n",
            "Name: Valor, dtype: float64\n",
            "Estado  Revenda                                    \n",
            "SP      AUTO POSTO JARDIM DO CAMBUCI LTDA              4.2990\n",
            "        CENTRO AUTOMOTIVO SGS CAPITÃO CAMARGO LTDA.    4.2985\n",
            "        AUTO POSTO GRAN PRIX LTDA                      4.2790\n",
            "Name: Valor, dtype: float64\n"
          ]
        }
      ]
    },
    {
      "cell_type": "markdown",
      "metadata": {
        "id": "YMu3e5LJSVc2"
      },
      "source": [
        "#### ***02: Gabriel***"
      ]
    },
    {
      "cell_type": "markdown",
      "source": [
        "3) Quais os 5 estados com o preço médio da gasolina e do etanol mais caros?"
      ],
      "metadata": {
        "id": "R7bC0Xroh3iS"
      }
    },
    {
      "cell_type": "markdown",
      "source": [
        "* **Localizando os preços médios de gasolina por Estado:**"
      ],
      "metadata": {
        "id": "k7ajlqX2h4if"
      }
    },
    {
      "cell_type": "code",
      "source": [
        "media_gasolina_x_estado=df.loc[df['Produto']=='GASOLINA']\n",
        "media_gasolina=media_gasolina_x_estado.groupby('Estado').Valor.mean()\n",
        "media_gasolina"
      ],
      "metadata": {
        "id": "0AENF6yBh68d",
        "colab": {
          "base_uri": "https://localhost:8080/"
        },
        "outputId": "e90bb3a0-fe67-4372-f6ce-5a9eb75a66d5"
      },
      "execution_count": null,
      "outputs": [
        {
          "output_type": "execute_result",
          "data": {
            "text/plain": [
              "Estado\n",
              "AC    6.434892\n",
              "AL    6.008206\n",
              "AM    5.568471\n",
              "AP    5.015969\n",
              "BA    6.004145\n",
              "CE    5.870804\n",
              "DF    5.896035\n",
              "ES    5.915967\n",
              "GO    6.065887\n",
              "MA    5.654577\n",
              "MG    6.062977\n",
              "MS    5.871636\n",
              "MT    5.848627\n",
              "PA    5.980833\n",
              "PB    5.568058\n",
              "PE    5.848677\n",
              "PI    6.197502\n",
              "PR    5.586183\n",
              "RJ    6.353294\n",
              "RN    6.182866\n",
              "RO    5.882260\n",
              "RR    5.469495\n",
              "RS    6.084994\n",
              "SC    5.539845\n",
              "SE    5.740906\n",
              "SP    5.531269\n",
              "TO    5.974237\n",
              "Name: Valor, dtype: float64"
            ]
          },
          "metadata": {},
          "execution_count": 58
        }
      ]
    },
    {
      "cell_type": "markdown",
      "source": [
        "* **Ordenando os dados por valores(decrescentes) para indicação dos 5 primeiros:**"
      ],
      "metadata": {
        "id": "vTjd8375h_18"
      }
    },
    {
      "cell_type": "code",
      "source": [
        "rank_5_gasolina = media_gasolina.sort_values(ascending=False).reset_index()[:5]"
      ],
      "metadata": {
        "id": "HO_JTXV5iG5L"
      },
      "execution_count": 107,
      "outputs": []
    },
    {
      "cell_type": "code",
      "source": [
        "sns.set_theme(style=\"whitegrid\")\n",
        "ax = sns.barplot(x=\"Valor\", y=\"Estado\", data=rank_5_gasolina, palette='viridis')"
      ],
      "metadata": {
        "colab": {
          "base_uri": "https://localhost:8080/",
          "height": 285
        },
        "id": "Avqvs5Nz6mDK",
        "outputId": "ddd1d4d8-0444-4f00-97df-12e5ff509dcd"
      },
      "execution_count": 108,
      "outputs": [
        {
          "output_type": "display_data",
          "data": {
            "image/png": "[encoded data removed]",
            "text/plain": [
              "<Figure size 432x288 with 1 Axes>"
            ]
          },
          "metadata": {}
        }
      ]
    },
    {
      "cell_type": "markdown",
      "source": [
        "* **Localizando os preços médios do etanol por Estado:**"
      ],
      "metadata": {
        "id": "VXI15Fp_iJSK"
      }
    },
    {
      "cell_type": "code",
      "source": [
        "media_etanol_x_estado=df.loc[df['Produto']=='ETANOL']\n",
        "media_etanol=media_etanol_x_estado.groupby('Estado').Valor.mean()\n",
        "media_etanol"
      ],
      "metadata": {
        "id": "bUk5XAWTiLNQ",
        "colab": {
          "base_uri": "https://localhost:8080/"
        },
        "outputId": "5d70a191-a70e-4354-a2d3-c1e42aa8a65b"
      },
      "execution_count": null,
      "outputs": [
        {
          "output_type": "execute_result",
          "data": {
            "text/plain": [
              "Estado\n",
              "AC    5.535494\n",
              "AL    5.187422\n",
              "AM    4.450337\n",
              "AP    5.314000\n",
              "BA    4.941465\n",
              "CE    5.204020\n",
              "DF    4.884223\n",
              "ES    5.100665\n",
              "GO    4.461115\n",
              "MA    4.963701\n",
              "MG    4.436100\n",
              "MS    4.562346\n",
              "MT    4.115737\n",
              "PA    5.333437\n",
              "PB    4.902520\n",
              "PE    5.081164\n",
              "PI    5.060795\n",
              "PR    4.354564\n",
              "RJ    5.310410\n",
              "RN    5.524841\n",
              "RO    5.077615\n",
              "RR    4.865000\n",
              "RS    5.806083\n",
              "SC    5.024191\n",
              "SE    5.053774\n",
              "SP    4.144674\n",
              "TO    5.132937\n",
              "Name: Valor, dtype: float64"
            ]
          },
          "metadata": {},
          "execution_count": 60
        }
      ]
    },
    {
      "cell_type": "markdown",
      "source": [
        "* **Ordenando os dados por valores (decrescentes) para indicação dos 5 primeiros:**"
      ],
      "metadata": {
        "id": "w6DsSNBTiRrK"
      }
    },
    {
      "cell_type": "code",
      "source": [
        "rank_5_etanol = media_etanol.sort_values(ascending=False).reset_index()[:5]"
      ],
      "metadata": {
        "id": "c46mPo1HiTUe"
      },
      "execution_count": 110,
      "outputs": []
    },
    {
      "cell_type": "code",
      "source": [
        "sns.set_theme(style=\"whitegrid\")\n",
        "ax = sns.barplot(x=\"Valor\", y=\"Estado\", data=rank_5_etanol, palette='viridis')"
      ],
      "metadata": {
        "colab": {
          "base_uri": "https://localhost:8080/",
          "height": 285
        },
        "id": "0CJhmlRg-ob5",
        "outputId": "d376c665-88b0-47ad-90af-b87606b532d7"
      },
      "execution_count": 111,
      "outputs": [
        {
          "output_type": "display_data",
          "data": {
            "image/png": "[encoded data removed]",
            "text/plain": [
              "<Figure size 432x288 with 1 Axes>"
            ]
          },
          "metadata": {}
        }
      ]
    },
    {
      "cell_type": "markdown",
      "source": [
        "4) Qual o preço médio da gasolina e do etanol por estado?"
      ],
      "metadata": {
        "id": "YaGwJWw6iXdK"
      }
    },
    {
      "cell_type": "markdown",
      "source": [
        "* **Gasolina x Estado: Cálculo do preço médio da gasolina por Estado:**"
      ],
      "metadata": {
        "id": "82Ao8Hr0ibeq"
      }
    },
    {
      "cell_type": "code",
      "source": [
        "media_gasolina_x_estado=df.loc[df['Produto']=='GASOLINA']\n",
        "media_gasolina=media_gasolina_x_estado.groupby('Estado').Valor.mean()\n",
        "media_gasolina"
      ],
      "metadata": {
        "id": "IwVmlhJPidlF",
        "colab": {
          "base_uri": "https://localhost:8080/"
        },
        "outputId": "fd18fe3d-ea49-4201-95db-e5ff69668411"
      },
      "execution_count": null,
      "outputs": [
        {
          "output_type": "execute_result",
          "data": {
            "text/plain": [
              "Estado\n",
              "AC    6.434892\n",
              "AL    6.008206\n",
              "AM    5.568471\n",
              "AP    5.015969\n",
              "BA    6.004145\n",
              "CE    5.870804\n",
              "DF    5.896035\n",
              "ES    5.915967\n",
              "GO    6.065887\n",
              "MA    5.654577\n",
              "MG    6.062977\n",
              "MS    5.871636\n",
              "MT    5.848627\n",
              "PA    5.980833\n",
              "PB    5.568058\n",
              "PE    5.848677\n",
              "PI    6.197502\n",
              "PR    5.586183\n",
              "RJ    6.353294\n",
              "RN    6.182866\n",
              "RO    5.882260\n",
              "RR    5.469495\n",
              "RS    6.084994\n",
              "SC    5.539845\n",
              "SE    5.740906\n",
              "SP    5.531269\n",
              "TO    5.974237\n",
              "Name: Valor, dtype: float64"
            ]
          },
          "metadata": {},
          "execution_count": 62
        }
      ]
    },
    {
      "cell_type": "markdown",
      "source": [
        "* **Etanol x Estado: Cálculo do preço médio do etanol por Estado:**"
      ],
      "metadata": {
        "id": "7xdfYzIPigEy"
      }
    },
    {
      "cell_type": "code",
      "source": [
        "media_etanol_x_estado=df.loc[df['Produto']=='ETANOL']\n",
        "media_etanol=media_etanol_x_estado.groupby('Estado').Valor.mean()\n",
        "media_etanol"
      ],
      "metadata": {
        "id": "vcLiF8UdijPw",
        "colab": {
          "base_uri": "https://localhost:8080/"
        },
        "outputId": "9db1674e-2dfe-4838-9c93-eff6e2771a44"
      },
      "execution_count": null,
      "outputs": [
        {
          "output_type": "execute_result",
          "data": {
            "text/plain": [
              "Estado\n",
              "AC    5.535494\n",
              "AL    5.187422\n",
              "AM    4.450337\n",
              "AP    5.314000\n",
              "BA    4.941465\n",
              "CE    5.204020\n",
              "DF    4.884223\n",
              "ES    5.100665\n",
              "GO    4.461115\n",
              "MA    4.963701\n",
              "MG    4.436100\n",
              "MS    4.562346\n",
              "MT    4.115737\n",
              "PA    5.333437\n",
              "PB    4.902520\n",
              "PE    5.081164\n",
              "PI    5.060795\n",
              "PR    4.354564\n",
              "RJ    5.310410\n",
              "RN    5.524841\n",
              "RO    5.077615\n",
              "RR    4.865000\n",
              "RS    5.806083\n",
              "SC    5.024191\n",
              "SE    5.053774\n",
              "SP    4.144674\n",
              "TO    5.132937\n",
              "Name: Valor, dtype: float64"
            ]
          },
          "metadata": {},
          "execution_count": 63
        }
      ]
    },
    {
      "cell_type": "code",
      "source": [
        "media_estados = df.groupby(['Estado', 'Produto'])['Valor'].mean().reset_index()"
      ],
      "metadata": {
        "id": "s0-rlcAUl-oa"
      },
      "execution_count": 109,
      "outputs": []
    },
    {
      "cell_type": "code",
      "source": [
        "fig = plt.figure(figsize=(30,10))\n",
        "plt.title('Preço médio da gasolina e do etanol no período', fontsize=30)\n",
        "\n",
        "sns.set(font_scale=2)\n",
        "sns.barplot(y='Valor', x='Estado', hue='Produto',  data=media_estados, palette='viridis');\n",
        "plt.ylabel('Valor médio')\n",
        "plt.xlabel('Estado')\n",
        "plt.legend(title=\"Produto\")\n",
        "\n",
        "plt.tight_layout()"
      ],
      "metadata": {
        "colab": {
          "base_uri": "https://localhost:8080/",
          "height": 393
        },
        "id": "NmePOdJfme0O",
        "outputId": "39520ce9-280d-466e-c764-d17ba6831c2a"
      },
      "execution_count": 92,
      "outputs": [
        {
          "output_type": "display_data",
          "data": {
            "image/png": "[encoded data removed]",
            "text/plain": [
              "<Figure size 2160x720 with 1 Axes>"
            ]
          },
          "metadata": {}
        }
      ]
    },
    {
      "cell_type": "markdown",
      "metadata": {
        "id": "1H4gMAT8Scyz"
      },
      "source": [
        "#### ***03: Gabriel (era Lucas)***"
      ]
    },
    {
      "cell_type": "markdown",
      "metadata": {
        "id": "ss8CXlxOW7PV"
      },
      "source": [
        "5) Qual o município que possui o menor preço para a gasolina e para o etanol?"
      ]
    },
    {
      "cell_type": "markdown",
      "source": [
        "* **Localizando o município que possui o MENOR preço de venda de gasolina:**"
      ],
      "metadata": {
        "id": "XTxBrF9pi2A3"
      }
    },
    {
      "cell_type": "code",
      "source": [
        "menor_gasolina_x_municipio=df.loc[df['Produto']=='GASOLINA']\n",
        "menor_gasolina=menor_gasolina_x_municipio.groupby('Municipio').Valor.min()\n",
        "menor_municipio_gasolina=menor_gasolina.sort_values()\n",
        "menor_municipio_gasolina.head(1)"
      ],
      "metadata": {
        "id": "aU82JqGi9JMN",
        "colab": {
          "base_uri": "https://localhost:8080/"
        },
        "outputId": "de2445d1-6e4a-4845-dec3-cb26105defbf"
      },
      "execution_count": null,
      "outputs": [
        {
          "output_type": "execute_result",
          "data": {
            "text/plain": [
              "Municipio\n",
              "COTIA    4.199\n",
              "Name: Valor, dtype: float64"
            ]
          },
          "metadata": {},
          "execution_count": 91
        }
      ]
    },
    {
      "cell_type": "markdown",
      "source": [
        "* **Localizando o município que possui o MENOR preço de venda de etanol:**"
      ],
      "metadata": {
        "id": "7S4AJxnAi7Cp"
      }
    },
    {
      "cell_type": "code",
      "source": [
        "menor_etanol_x_municipio=df.loc[df['Produto']=='ETANOL']\n",
        "menor_etanol=menor_etanol_x_municipio.groupby('Municipio').Valor.min()\n",
        "menor_municipio_etanol=menor_etanol.sort_values()\n",
        "menor_municipio_etanol.head(1)"
      ],
      "metadata": {
        "id": "oldmgZv3i9Gb",
        "colab": {
          "base_uri": "https://localhost:8080/"
        },
        "outputId": "da0dc3aa-35bd-4e2d-8819-269e4858e695"
      },
      "execution_count": null,
      "outputs": [
        {
          "output_type": "execute_result",
          "data": {
            "text/plain": [
              "Municipio\n",
              "SANTA BARBARA D'OESTE    3.097\n",
              "Name: Valor, dtype: float64"
            ]
          },
          "metadata": {},
          "execution_count": 65
        }
      ]
    },
    {
      "cell_type": "markdown",
      "source": [
        "6) Qual o município que possui o maior preço para a gasolina e para o etanol?"
      ],
      "metadata": {
        "id": "OkVYfvg44mPs"
      }
    },
    {
      "cell_type": "markdown",
      "source": [
        "* **Localizando o município que possui o MAIOR preço de venda de gasolina:**"
      ],
      "metadata": {
        "id": "tRW6bs6EjADA"
      }
    },
    {
      "cell_type": "code",
      "source": [
        "maior_gasolina_x_municipio=df.loc[df['Produto']=='GASOLINA']\n",
        "maior_gasolina=maior_gasolina_x_municipio.groupby('Municipio').Valor.max()\n",
        "maior_municipio_gasolina=maior_gasolina.sort_values(ascending=False)\n",
        "maior_municipio_gasolina.head(1)"
      ],
      "metadata": {
        "id": "eZWJuLnd9J8N",
        "colab": {
          "base_uri": "https://localhost:8080/"
        },
        "outputId": "328d35c6-0d2b-4de1-d04a-36c517488548"
      },
      "execution_count": null,
      "outputs": [
        {
          "output_type": "execute_result",
          "data": {
            "text/plain": [
              "Municipio\n",
              "BAGE    7.097\n",
              "Name: Valor, dtype: float64"
            ]
          },
          "metadata": {},
          "execution_count": 66
        }
      ]
    },
    {
      "cell_type": "markdown",
      "source": [
        "* **Localizando o município que possui o MAIOR preço de venda de etanol:**"
      ],
      "metadata": {
        "id": "4R35aL8qjDBr"
      }
    },
    {
      "cell_type": "code",
      "source": [
        "maior_etanol_x_municipio=df.loc[df['Produto']=='ETANOL']\n",
        "maior_etanol=maior_etanol_x_municipio.groupby('Municipio').Valor.max()\n",
        "maior_municipio_etanol=maior_etanol.sort_values(ascending=False)\n",
        "maior_municipio_etanol.head(1)"
      ],
      "metadata": {
        "id": "tm5a7vwzjENa",
        "colab": {
          "base_uri": "https://localhost:8080/"
        },
        "outputId": "cd6ce7d0-edbc-4e3e-b0c5-acf415d88319"
      },
      "execution_count": null,
      "outputs": [
        {
          "output_type": "execute_result",
          "data": {
            "text/plain": [
              "Municipio\n",
              "PELOTAS    6.999\n",
              "Name: Valor, dtype: float64"
            ]
          },
          "metadata": {},
          "execution_count": 67
        }
      ]
    },
    {
      "cell_type": "markdown",
      "metadata": {
        "id": "1d6XlzgsSfES"
      },
      "source": [
        "#### ***04: Samyr***"
      ]
    },
    {
      "cell_type": "markdown",
      "metadata": {
        "id": "5DqemWXoW-Y2"
      },
      "source": [
        "7) Qual a região que possui o maior valor médio da gasolina?"
      ]
    },
    {
      "cell_type": "code",
      "execution_count": null,
      "metadata": {
        "id": "AU3j1Nikd8hb",
        "colab": {
          "base_uri": "https://localhost:8080/"
        },
        "outputId": "71128826-62cf-4670-b81e-89b090046455"
      },
      "outputs": [
        {
          "output_type": "execute_result",
          "data": {
            "text/plain": [
              "Regiao\n",
              "CO    5.934015\n",
              "NE    5.917449\n",
              "N     5.873776\n",
              "S     5.771864\n",
              "SE    5.730692\n",
              "Name: Valor, dtype: float64"
            ]
          },
          "metadata": {},
          "execution_count": 68
        }
      ],
      "source": [
        "gasol = df.loc[ df['Produto'] == 'GASOLINA' ]\n",
        "max_reg_gasol = gasol.groupby('Regiao').Valor.mean().sort_values(ascending=False)\n",
        "max_reg_gasol"
      ]
    },
    {
      "cell_type": "code",
      "source": [
        "max_reg_gasol.max()"
      ],
      "metadata": {
        "id": "Byjl_iRMmPgq",
        "colab": {
          "base_uri": "https://localhost:8080/"
        },
        "outputId": "551b6eb9-cae2-4348-dfe7-b6d763b25122"
      },
      "execution_count": null,
      "outputs": [
        {
          "output_type": "execute_result",
          "data": {
            "text/plain": [
              "5.934015387814514"
            ]
          },
          "metadata": {},
          "execution_count": 69
        }
      ]
    },
    {
      "cell_type": "markdown",
      "metadata": {
        "id": "iN9W2mE1d9GF"
      },
      "source": [
        "8) Qual a região que possui o menor valor médio do etanol?"
      ]
    },
    {
      "cell_type": "code",
      "execution_count": null,
      "metadata": {
        "id": "Vp5Ho02XeBtD",
        "colab": {
          "base_uri": "https://localhost:8080/",
          "height": 237
        },
        "outputId": "eb3ead7a-682d-430f-b435-1927c943e28d"
      },
      "outputs": [
        {
          "output_type": "execute_result",
          "data": {
            "text/html": [
              "\n",
              "  <div id=\"df-fe96fddc-d6aa-41f0-99b3-e4bdc30a3302\">\n",
              "    <div class=\"colab-df-container\">\n",
              "      <div>\n",
              "<style scoped>\n",
              "    .dataframe tbody tr th:only-of-type {\n",
              "        vertical-align: middle;\n",
              "    }\n",
              "\n",
              "    .dataframe tbody tr th {\n",
              "        vertical-align: top;\n",
              "    }\n",
              "\n",
              "    .dataframe thead th {\n",
              "        text-align: right;\n",
              "    }\n",
              "</style>\n",
              "<table border=\"1\" class=\"dataframe\">\n",
              "  <thead>\n",
              "    <tr style=\"text-align: right;\">\n",
              "      <th></th>\n",
              "      <th>Valor</th>\n",
              "    </tr>\n",
              "    <tr>\n",
              "      <th>Regiao</th>\n",
              "      <th></th>\n",
              "    </tr>\n",
              "  </thead>\n",
              "  <tbody>\n",
              "    <tr>\n",
              "      <th>SE</th>\n",
              "      <td>4.354765</td>\n",
              "    </tr>\n",
              "    <tr>\n",
              "      <th>CO</th>\n",
              "      <td>4.406943</td>\n",
              "    </tr>\n",
              "    <tr>\n",
              "      <th>S</th>\n",
              "      <td>4.819885</td>\n",
              "    </tr>\n",
              "    <tr>\n",
              "      <th>N</th>\n",
              "      <td>5.046574</td>\n",
              "    </tr>\n",
              "    <tr>\n",
              "      <th>NE</th>\n",
              "      <td>5.090050</td>\n",
              "    </tr>\n",
              "  </tbody>\n",
              "</table>\n",
              "</div>\n",
              "      <button class=\"colab-df-convert\" onclick=\"convertToInteractive('df-fe96fddc-d6aa-41f0-99b3-e4bdc30a3302')\"\n",
              "              title=\"Convert this dataframe to an interactive table.\"\n",
              "              style=\"display:none;\">\n",
              "        \n",
              "  <svg xmlns=\"http://www.w3.org/2000/svg\" height=\"24px\"viewBox=\"0 0 24 24\"\n",
              "       width=\"24px\">\n",
              "    <path d=\"M0 0h24v24H0V0z\" fill=\"none\"/>\n",
              "    <path d=\"M18.56 5.44l.94 2.06.94-2.06 2.06-.94-2.06-.94-.94-2.06-.94 2.06-2.06.94zm-11 1L8.5 8.5l.94-2.06 2.06-.94-2.06-.94L8.5 2.5l-.94 2.06-2.06.94zm10 10l.94 2.06.94-2.06 2.06-.94-2.06-.94-.94-2.06-.94 2.06-2.06.94z\"/><path d=\"M17.41 7.96l-1.37-1.37c-.4-.4-.92-.59-1.43-.59-.52 0-1.04.2-1.43.59L10.3 9.45l-7.72 7.72c-.78.78-.78 2.05 0 2.83L4 21.41c.39.39.9.59 1.41.59.51 0 1.02-.2 1.41-.59l7.78-7.78 2.81-2.81c.8-.78.8-2.07 0-2.86zM5.41 20L4 18.59l7.72-7.72 1.47 1.35L5.41 20z\"/>\n",
              "  </svg>\n",
              "      </button>\n",
              "      \n",
              "  <style>\n",
              "    .colab-df-container {\n",
              "      display:flex;\n",
              "      flex-wrap:wrap;\n",
              "      gap: 12px;\n",
              "    }\n",
              "\n",
              "    .colab-df-convert {\n",
              "      background-color: #E8F0FE;\n",
              "      border: none;\n",
              "      border-radius: 50%;\n",
              "      cursor: pointer;\n",
              "      display: none;\n",
              "      fill: #1967D2;\n",
              "      height: 32px;\n",
              "      padding: 0 0 0 0;\n",
              "      width: 32px;\n",
              "    }\n",
              "\n",
              "    .colab-df-convert:hover {\n",
              "      background-color: #E2EBFA;\n",
              "      box-shadow: 0px 1px 2px rgba(60, 64, 67, 0.3), 0px 1px 3px 1px rgba(60, 64, 67, 0.15);\n",
              "      fill: #174EA6;\n",
              "    }\n",
              "\n",
              "    [theme=dark] .colab-df-convert {\n",
              "      background-color: #3B4455;\n",
              "      fill: #D2E3FC;\n",
              "    }\n",
              "\n",
              "    [theme=dark] .colab-df-convert:hover {\n",
              "      background-color: #434B5C;\n",
              "      box-shadow: 0px 1px 3px 1px rgba(0, 0, 0, 0.15);\n",
              "      filter: drop-shadow(0px 1px 2px rgba(0, 0, 0, 0.3));\n",
              "      fill: #FFFFFF;\n",
              "    }\n",
              "  </style>\n",
              "\n",
              "      <script>\n",
              "        const buttonEl =\n",
              "          document.querySelector('#df-fe96fddc-d6aa-41f0-99b3-e4bdc30a3302 button.colab-df-convert');\n",
              "        buttonEl.style.display =\n",
              "          google.colab.kernel.accessAllowed ? 'block' : 'none';\n",
              "\n",
              "        async function convertToInteractive(key) {\n",
              "          const element = document.querySelector('#df-fe96fddc-d6aa-41f0-99b3-e4bdc30a3302');\n",
              "          const dataTable =\n",
              "            await google.colab.kernel.invokeFunction('convertToInteractive',\n",
              "                                                     [key], {});\n",
              "          if (!dataTable) return;\n",
              "\n",
              "          const docLinkHtml = 'Like what you see? Visit the ' +\n",
              "            '<a target=\"_blank\" href=https://colab.research.google.com/notebooks/data_table.ipynb>data table notebook</a>'\n",
              "            + ' to learn more about interactive tables.';\n",
              "          element.innerHTML = '';\n",
              "          dataTable['output_type'] = 'display_data';\n",
              "          await google.colab.output.renderOutput(dataTable, element);\n",
              "          const docLink = document.createElement('div');\n",
              "          docLink.innerHTML = docLinkHtml;\n",
              "          element.appendChild(docLink);\n",
              "        }\n",
              "      </script>\n",
              "    </div>\n",
              "  </div>\n",
              "  "
            ],
            "text/plain": [
              "           Valor\n",
              "Regiao          \n",
              "SE      4.354765\n",
              "CO      4.406943\n",
              "S       4.819885\n",
              "N       5.046574\n",
              "NE      5.090050"
            ]
          },
          "metadata": {},
          "execution_count": 70
        }
      ],
      "source": [
        "etanol = df[df['Produto'].isin(['ETANOL'])]\n",
        "min_reg_etanol = etanol.groupby('Regiao').agg({'Valor': 'mean'}).sort_values('Valor')\n",
        "min_reg_etanol"
      ]
    },
    {
      "cell_type": "code",
      "source": [
        "min_reg_etanol.min()"
      ],
      "metadata": {
        "id": "oivfGeshmW1A",
        "colab": {
          "base_uri": "https://localhost:8080/"
        },
        "outputId": "3966e3c3-0507-4b2c-adb3-f6771341040f"
      },
      "execution_count": null,
      "outputs": [
        {
          "output_type": "execute_result",
          "data": {
            "text/plain": [
              "Valor    4.354765\n",
              "dtype: float64"
            ]
          },
          "metadata": {},
          "execution_count": 71
        }
      ]
    },
    {
      "cell_type": "markdown",
      "metadata": {
        "id": "_j4lQNXSShYa"
      },
      "source": [
        "#### ***05: Vinicius***"
      ]
    },
    {
      "cell_type": "markdown",
      "metadata": {
        "id": "izdA3h5KTlCt"
      },
      "source": [
        "9) Há alguma correlação entre o valor do combustível (gasolina e etanol) e a região onde ele é vendido?"
      ]
    },
    {
      "cell_type": "markdown",
      "source": [
        "A princípio nós efetuamos a operação para verificar o valor médio por região."
      ],
      "metadata": {
        "id": "bBN2BAsF3-7g"
      }
    },
    {
      "cell_type": "code",
      "execution_count": null,
      "metadata": {
        "id": "Q8DTT7MKGhrQ",
        "colab": {
          "base_uri": "https://localhost:8080/"
        },
        "outputId": "986eacba-2028-49c1-d2c2-9754bad404a8"
      },
      "outputs": [
        {
          "output_type": "execute_result",
          "data": {
            "text/plain": [
              "Regiao\n",
              "CO    5.35\n",
              "N     5.69\n",
              "NE    5.63\n",
              "S     5.53\n",
              "SE    5.22\n",
              "Name: Valor, dtype: float64"
            ]
          },
          "metadata": {},
          "execution_count": 72
        }
      ],
      "source": [
        "df_group_reg = df.groupby('Regiao')\n",
        "data_1 = df_group_reg['Valor'].mean().round(2)\n",
        "data_1"
      ]
    },
    {
      "cell_type": "code",
      "source": [
        "ax = data_1.plot.bar(x='Regiao', y='Valor', rot=0)"
      ],
      "metadata": {
        "colab": {
          "base_uri": "https://localhost:8080/"
        },
        "id": "QuPRQFVP5Yrj",
        "outputId": "7c336d3c-5418-45e3-947e-7d495ab3a9cd"
      },
      "execution_count": null,
      "outputs": [
        {
          "output_type": "display_data",
          "data": {
            "image/png": "[encoded data removed]",
            "text/plain": [
              "<Figure size 432x288 with 1 Axes>"
            ]
          },
          "metadata": {
            "needs_background": "light"
          }
        }
      ]
    },
    {
      "cell_type": "markdown",
      "source": [
        "Após isso, calculamos os valores de média, moda e mediana. "
      ],
      "metadata": {
        "id": "6vv7hn904JKD"
      }
    },
    {
      "cell_type": "code",
      "execution_count": null,
      "metadata": {
        "id": "pph_dluXK2El",
        "colab": {
          "base_uri": "https://localhost:8080/"
        },
        "outputId": "93bcc4ab-7c91-4d84-a7ab-829f1bfc05c6"
      },
      "outputs": [
        {
          "output_type": "execute_result",
          "data": {
            "text/plain": [
              "5.38"
            ]
          },
          "metadata": {},
          "execution_count": 74
        }
      ],
      "source": [
        "data_2 = round(df['Valor'].mean(), 2)\n",
        "data_2"
      ]
    },
    {
      "cell_type": "code",
      "source": [
        "data_3 = round(df['Valor'].mode(), 2)\n",
        "data_3"
      ],
      "metadata": {
        "colab": {
          "base_uri": "https://localhost:8080/"
        },
        "id": "f6CJeI1x2ttD",
        "outputId": "f0db307d-a27a-49e3-c2a7-0b315701bb19"
      },
      "execution_count": null,
      "outputs": [
        {
          "output_type": "execute_result",
          "data": {
            "text/plain": [
              "0    5.6\n",
              "dtype: float64"
            ]
          },
          "metadata": {},
          "execution_count": 75
        }
      ]
    },
    {
      "cell_type": "code",
      "source": [
        "data_4 = round(df['Valor'].median(), 2)\n",
        "data_4"
      ],
      "metadata": {
        "colab": {
          "base_uri": "https://localhost:8080/"
        },
        "id": "vt2YSV-63ca8",
        "outputId": "ad19b0f1-8432-4f44-dae0-02b997da931e"
      },
      "execution_count": null,
      "outputs": [
        {
          "output_type": "execute_result",
          "data": {
            "text/plain": [
              "5.55"
            ]
          },
          "metadata": {},
          "execution_count": 76
        }
      ]
    },
    {
      "cell_type": "code",
      "source": [
        "df_group_reg = df.groupby(['Regiao'])\n",
        "data_5 = df_group_reg['Valor'].sum().round(2)\n",
        "data_5"
      ],
      "metadata": {
        "colab": {
          "base_uri": "https://localhost:8080/"
        },
        "id": "ce1xO9xN6sN_",
        "outputId": "2708541d-3e34-42f8-a580-d131efde880c"
      },
      "execution_count": null,
      "outputs": [
        {
          "output_type": "execute_result",
          "data": {
            "text/plain": [
              "Regiao\n",
              "CO     41682.59\n",
              "N      28382.11\n",
              "NE    103545.01\n",
              "S      89543.26\n",
              "SE    262340.70\n",
              "Name: Valor, dtype: float64"
            ]
          },
          "metadata": {},
          "execution_count": 77
        }
      ]
    },
    {
      "cell_type": "code",
      "source": [
        ""
      ],
      "metadata": {
        "id": "f9phBhaq86Rp"
      },
      "execution_count": null,
      "outputs": []
    },
    {
      "cell_type": "markdown",
      "metadata": {
        "id": "TCn7ZSKEFRg4"
      },
      "source": [
        "10) Há alguma correlação entre o valor do combustível (gasolina e etanol) e a bandeira que vende ele?"
      ]
    },
    {
      "cell_type": "code",
      "execution_count": null,
      "metadata": {
        "id": "NrcuBjqoFQRA",
        "colab": {
          "base_uri": "https://localhost:8080/"
        },
        "outputId": "29e5f546-8bee-4d28-9e03-907695bb7456"
      },
      "outputs": [
        {
          "output_type": "execute_result",
          "data": {
            "text/html": [
              "\n",
              "  <div id=\"df-a0867b36-74fb-4e01-89b6-4a53dbffb720\">\n",
              "    <div class=\"colab-df-container\">\n",
              "      <div>\n",
              "<style scoped>\n",
              "    .dataframe tbody tr th:only-of-type {\n",
              "        vertical-align: middle;\n",
              "    }\n",
              "\n",
              "    .dataframe tbody tr th {\n",
              "        vertical-align: top;\n",
              "    }\n",
              "\n",
              "    .dataframe thead th {\n",
              "        text-align: right;\n",
              "    }\n",
              "</style>\n",
              "<table border=\"1\" class=\"dataframe\">\n",
              "  <thead>\n",
              "    <tr style=\"text-align: right;\">\n",
              "      <th></th>\n",
              "      <th>count</th>\n",
              "      <th>mean</th>\n",
              "      <th>std</th>\n",
              "      <th>min</th>\n",
              "      <th>25%</th>\n",
              "      <th>50%</th>\n",
              "      <th>75%</th>\n",
              "      <th>max</th>\n",
              "    </tr>\n",
              "    <tr>\n",
              "      <th>Bandeira</th>\n",
              "      <th></th>\n",
              "      <th></th>\n",
              "      <th></th>\n",
              "      <th></th>\n",
              "      <th></th>\n",
              "      <th></th>\n",
              "      <th></th>\n",
              "      <th></th>\n",
              "    </tr>\n",
              "  </thead>\n",
              "  <tbody>\n",
              "    <tr>\n",
              "      <th>ACOL</th>\n",
              "      <td>9.0</td>\n",
              "      <td>5.65</td>\n",
              "      <td>0.77</td>\n",
              "      <td>4.60</td>\n",
              "      <td>4.70</td>\n",
              "      <td>6.10</td>\n",
              "      <td>6.10</td>\n",
              "      <td>6.30</td>\n",
              "    </tr>\n",
              "    <tr>\n",
              "      <th>ALESAT</th>\n",
              "      <td>2046.0</td>\n",
              "      <td>5.47</td>\n",
              "      <td>0.68</td>\n",
              "      <td>3.75</td>\n",
              "      <td>5.00</td>\n",
              "      <td>5.58</td>\n",
              "      <td>5.99</td>\n",
              "      <td>6.70</td>\n",
              "    </tr>\n",
              "    <tr>\n",
              "      <th>AMERICANOIL</th>\n",
              "      <td>89.0</td>\n",
              "      <td>5.45</td>\n",
              "      <td>0.25</td>\n",
              "      <td>5.00</td>\n",
              "      <td>5.38</td>\n",
              "      <td>5.55</td>\n",
              "      <td>5.65</td>\n",
              "      <td>5.75</td>\n",
              "    </tr>\n",
              "    <tr>\n",
              "      <th>ATEM' S</th>\n",
              "      <td>504.0</td>\n",
              "      <td>5.36</td>\n",
              "      <td>0.54</td>\n",
              "      <td>4.18</td>\n",
              "      <td>5.00</td>\n",
              "      <td>5.53</td>\n",
              "      <td>5.79</td>\n",
              "      <td>6.97</td>\n",
              "    </tr>\n",
              "    <tr>\n",
              "      <th>ATLÂNTICA</th>\n",
              "      <td>70.0</td>\n",
              "      <td>5.66</td>\n",
              "      <td>0.40</td>\n",
              "      <td>4.68</td>\n",
              "      <td>5.64</td>\n",
              "      <td>5.79</td>\n",
              "      <td>5.95</td>\n",
              "      <td>6.09</td>\n",
              "    </tr>\n",
              "    <tr>\n",
              "      <th>BRANCA</th>\n",
              "      <td>35927.0</td>\n",
              "      <td>5.23</td>\n",
              "      <td>0.73</td>\n",
              "      <td>3.10</td>\n",
              "      <td>4.70</td>\n",
              "      <td>5.40</td>\n",
              "      <td>5.79</td>\n",
              "      <td>7.00</td>\n",
              "    </tr>\n",
              "    <tr>\n",
              "      <th>CHARRUA</th>\n",
              "      <td>104.0</td>\n",
              "      <td>6.08</td>\n",
              "      <td>0.22</td>\n",
              "      <td>5.60</td>\n",
              "      <td>5.90</td>\n",
              "      <td>6.09</td>\n",
              "      <td>6.23</td>\n",
              "      <td>6.60</td>\n",
              "    </tr>\n",
              "    <tr>\n",
              "      <th>CIAPETRO</th>\n",
              "      <td>141.0</td>\n",
              "      <td>5.22</td>\n",
              "      <td>0.67</td>\n",
              "      <td>4.00</td>\n",
              "      <td>4.47</td>\n",
              "      <td>5.58</td>\n",
              "      <td>5.75</td>\n",
              "      <td>6.33</td>\n",
              "    </tr>\n",
              "    <tr>\n",
              "      <th>DIBRAPE</th>\n",
              "      <td>28.0</td>\n",
              "      <td>5.30</td>\n",
              "      <td>0.24</td>\n",
              "      <td>4.55</td>\n",
              "      <td>5.30</td>\n",
              "      <td>5.36</td>\n",
              "      <td>5.40</td>\n",
              "      <td>5.70</td>\n",
              "    </tr>\n",
              "    <tr>\n",
              "      <th>DISLUB</th>\n",
              "      <td>226.0</td>\n",
              "      <td>5.70</td>\n",
              "      <td>0.43</td>\n",
              "      <td>4.78</td>\n",
              "      <td>5.28</td>\n",
              "      <td>5.80</td>\n",
              "      <td>6.00</td>\n",
              "      <td>6.47</td>\n",
              "    </tr>\n",
              "    <tr>\n",
              "      <th>D`MAIS</th>\n",
              "      <td>12.0</td>\n",
              "      <td>5.00</td>\n",
              "      <td>0.67</td>\n",
              "      <td>4.00</td>\n",
              "      <td>4.17</td>\n",
              "      <td>5.40</td>\n",
              "      <td>5.45</td>\n",
              "      <td>5.57</td>\n",
              "    </tr>\n",
              "    <tr>\n",
              "      <th>EQUADOR</th>\n",
              "      <td>336.0</td>\n",
              "      <td>5.78</td>\n",
              "      <td>0.55</td>\n",
              "      <td>4.19</td>\n",
              "      <td>5.55</td>\n",
              "      <td>5.85</td>\n",
              "      <td>6.16</td>\n",
              "      <td>6.55</td>\n",
              "    </tr>\n",
              "    <tr>\n",
              "      <th>ESTRADA</th>\n",
              "      <td>3.0</td>\n",
              "      <td>5.06</td>\n",
              "      <td>0.67</td>\n",
              "      <td>4.29</td>\n",
              "      <td>4.84</td>\n",
              "      <td>5.39</td>\n",
              "      <td>5.44</td>\n",
              "      <td>5.49</td>\n",
              "    </tr>\n",
              "    <tr>\n",
              "      <th>FAN</th>\n",
              "      <td>62.0</td>\n",
              "      <td>5.76</td>\n",
              "      <td>0.45</td>\n",
              "      <td>4.29</td>\n",
              "      <td>5.29</td>\n",
              "      <td>5.89</td>\n",
              "      <td>6.00</td>\n",
              "      <td>6.29</td>\n",
              "    </tr>\n",
              "    <tr>\n",
              "      <th>FEDERAL ENERGIA</th>\n",
              "      <td>51.0</td>\n",
              "      <td>5.34</td>\n",
              "      <td>0.50</td>\n",
              "      <td>4.49</td>\n",
              "      <td>4.99</td>\n",
              "      <td>5.46</td>\n",
              "      <td>5.86</td>\n",
              "      <td>5.98</td>\n",
              "    </tr>\n",
              "    <tr>\n",
              "      <th>IDAZA</th>\n",
              "      <td>231.0</td>\n",
              "      <td>5.29</td>\n",
              "      <td>0.82</td>\n",
              "      <td>3.80</td>\n",
              "      <td>4.36</td>\n",
              "      <td>5.77</td>\n",
              "      <td>5.90</td>\n",
              "      <td>6.30</td>\n",
              "    </tr>\n",
              "    <tr>\n",
              "      <th>IPIRANGA</th>\n",
              "      <td>16965.0</td>\n",
              "      <td>5.43</td>\n",
              "      <td>0.71</td>\n",
              "      <td>3.30</td>\n",
              "      <td>5.00</td>\n",
              "      <td>5.60</td>\n",
              "      <td>5.90</td>\n",
              "      <td>7.10</td>\n",
              "    </tr>\n",
              "    <tr>\n",
              "      <th>LARCO</th>\n",
              "      <td>21.0</td>\n",
              "      <td>5.56</td>\n",
              "      <td>0.49</td>\n",
              "      <td>4.85</td>\n",
              "      <td>4.95</td>\n",
              "      <td>5.85</td>\n",
              "      <td>5.95</td>\n",
              "      <td>5.95</td>\n",
              "    </tr>\n",
              "    <tr>\n",
              "      <th>MASUT DISTRIBUIDORA</th>\n",
              "      <td>74.0</td>\n",
              "      <td>5.50</td>\n",
              "      <td>0.74</td>\n",
              "      <td>4.26</td>\n",
              "      <td>4.58</td>\n",
              "      <td>6.02</td>\n",
              "      <td>6.11</td>\n",
              "      <td>6.18</td>\n",
              "    </tr>\n",
              "    <tr>\n",
              "      <th>MAXSUL</th>\n",
              "      <td>55.0</td>\n",
              "      <td>5.48</td>\n",
              "      <td>0.50</td>\n",
              "      <td>4.17</td>\n",
              "      <td>5.50</td>\n",
              "      <td>5.53</td>\n",
              "      <td>5.69</td>\n",
              "      <td>6.28</td>\n",
              "    </tr>\n",
              "    <tr>\n",
              "      <th>PELIKANO</th>\n",
              "      <td>6.0</td>\n",
              "      <td>4.92</td>\n",
              "      <td>0.59</td>\n",
              "      <td>4.10</td>\n",
              "      <td>4.47</td>\n",
              "      <td>5.30</td>\n",
              "      <td>5.30</td>\n",
              "      <td>5.30</td>\n",
              "    </tr>\n",
              "    <tr>\n",
              "      <th>PETROBAHIA</th>\n",
              "      <td>70.0</td>\n",
              "      <td>5.78</td>\n",
              "      <td>0.56</td>\n",
              "      <td>4.59</td>\n",
              "      <td>5.20</td>\n",
              "      <td>5.99</td>\n",
              "      <td>6.28</td>\n",
              "      <td>6.48</td>\n",
              "    </tr>\n",
              "    <tr>\n",
              "      <th>PETROBRAS DISTRIBUIDORA S.A.</th>\n",
              "      <td>20632.0</td>\n",
              "      <td>5.54</td>\n",
              "      <td>0.68</td>\n",
              "      <td>3.70</td>\n",
              "      <td>5.19</td>\n",
              "      <td>5.70</td>\n",
              "      <td>6.00</td>\n",
              "      <td>7.10</td>\n",
              "    </tr>\n",
              "    <tr>\n",
              "      <th>PETROSERRA</th>\n",
              "      <td>24.0</td>\n",
              "      <td>5.38</td>\n",
              "      <td>0.50</td>\n",
              "      <td>4.51</td>\n",
              "      <td>4.83</td>\n",
              "      <td>5.53</td>\n",
              "      <td>5.83</td>\n",
              "      <td>5.83</td>\n",
              "    </tr>\n",
              "    <tr>\n",
              "      <th>PETROX DISTRIBUIDORA</th>\n",
              "      <td>159.0</td>\n",
              "      <td>5.49</td>\n",
              "      <td>0.34</td>\n",
              "      <td>4.76</td>\n",
              "      <td>5.08</td>\n",
              "      <td>5.58</td>\n",
              "      <td>5.78</td>\n",
              "      <td>6.00</td>\n",
              "    </tr>\n",
              "    <tr>\n",
              "      <th>POTENCIAL</th>\n",
              "      <td>59.0</td>\n",
              "      <td>5.28</td>\n",
              "      <td>0.62</td>\n",
              "      <td>4.10</td>\n",
              "      <td>5.24</td>\n",
              "      <td>5.32</td>\n",
              "      <td>5.79</td>\n",
              "      <td>6.29</td>\n",
              "    </tr>\n",
              "    <tr>\n",
              "      <th>RAIZEN</th>\n",
              "      <td>16254.0</td>\n",
              "      <td>5.42</td>\n",
              "      <td>0.72</td>\n",
              "      <td>3.55</td>\n",
              "      <td>4.99</td>\n",
              "      <td>5.60</td>\n",
              "      <td>5.97</td>\n",
              "      <td>7.00</td>\n",
              "    </tr>\n",
              "    <tr>\n",
              "      <th>RAIZEN MIME</th>\n",
              "      <td>521.0</td>\n",
              "      <td>5.41</td>\n",
              "      <td>0.29</td>\n",
              "      <td>4.50</td>\n",
              "      <td>5.05</td>\n",
              "      <td>5.50</td>\n",
              "      <td>5.60</td>\n",
              "      <td>6.00</td>\n",
              "    </tr>\n",
              "    <tr>\n",
              "      <th>REJAILE</th>\n",
              "      <td>22.0</td>\n",
              "      <td>5.43</td>\n",
              "      <td>0.33</td>\n",
              "      <td>4.80</td>\n",
              "      <td>5.21</td>\n",
              "      <td>5.59</td>\n",
              "      <td>5.66</td>\n",
              "      <td>5.73</td>\n",
              "    </tr>\n",
              "    <tr>\n",
              "      <th>RIO BRANCO</th>\n",
              "      <td>109.0</td>\n",
              "      <td>5.46</td>\n",
              "      <td>0.81</td>\n",
              "      <td>4.00</td>\n",
              "      <td>4.60</td>\n",
              "      <td>5.97</td>\n",
              "      <td>6.10</td>\n",
              "      <td>6.50</td>\n",
              "    </tr>\n",
              "    <tr>\n",
              "      <th>RODOIL</th>\n",
              "      <td>379.0</td>\n",
              "      <td>5.72</td>\n",
              "      <td>0.52</td>\n",
              "      <td>4.08</td>\n",
              "      <td>5.48</td>\n",
              "      <td>5.90</td>\n",
              "      <td>6.10</td>\n",
              "      <td>6.88</td>\n",
              "    </tr>\n",
              "    <tr>\n",
              "      <th>ROYAL FIC</th>\n",
              "      <td>33.0</td>\n",
              "      <td>5.28</td>\n",
              "      <td>0.63</td>\n",
              "      <td>4.30</td>\n",
              "      <td>4.49</td>\n",
              "      <td>5.60</td>\n",
              "      <td>5.79</td>\n",
              "      <td>5.80</td>\n",
              "    </tr>\n",
              "    <tr>\n",
              "      <th>RUFF C.J.</th>\n",
              "      <td>10.0</td>\n",
              "      <td>4.86</td>\n",
              "      <td>0.66</td>\n",
              "      <td>4.10</td>\n",
              "      <td>4.28</td>\n",
              "      <td>4.85</td>\n",
              "      <td>5.40</td>\n",
              "      <td>5.60</td>\n",
              "    </tr>\n",
              "    <tr>\n",
              "      <th>RZD DISTRIBUIDORA</th>\n",
              "      <td>24.0</td>\n",
              "      <td>5.03</td>\n",
              "      <td>0.59</td>\n",
              "      <td>4.15</td>\n",
              "      <td>4.44</td>\n",
              "      <td>5.27</td>\n",
              "      <td>5.36</td>\n",
              "      <td>5.79</td>\n",
              "    </tr>\n",
              "    <tr>\n",
              "      <th>SABBÁ</th>\n",
              "      <td>1042.0</td>\n",
              "      <td>5.63</td>\n",
              "      <td>0.55</td>\n",
              "      <td>4.10</td>\n",
              "      <td>5.29</td>\n",
              "      <td>5.70</td>\n",
              "      <td>6.00</td>\n",
              "      <td>6.80</td>\n",
              "    </tr>\n",
              "    <tr>\n",
              "      <th>SETTA DISTRIBUIDORA</th>\n",
              "      <td>119.0</td>\n",
              "      <td>5.45</td>\n",
              "      <td>0.36</td>\n",
              "      <td>4.69</td>\n",
              "      <td>5.09</td>\n",
              "      <td>5.60</td>\n",
              "      <td>5.70</td>\n",
              "      <td>5.89</td>\n",
              "    </tr>\n",
              "    <tr>\n",
              "      <th>SIMARELLI</th>\n",
              "      <td>102.0</td>\n",
              "      <td>5.31</td>\n",
              "      <td>0.73</td>\n",
              "      <td>4.09</td>\n",
              "      <td>4.40</td>\n",
              "      <td>5.70</td>\n",
              "      <td>5.97</td>\n",
              "      <td>6.17</td>\n",
              "    </tr>\n",
              "    <tr>\n",
              "      <th>SMALL</th>\n",
              "      <td>21.0</td>\n",
              "      <td>5.35</td>\n",
              "      <td>0.68</td>\n",
              "      <td>4.30</td>\n",
              "      <td>4.50</td>\n",
              "      <td>5.70</td>\n",
              "      <td>5.80</td>\n",
              "      <td>6.00</td>\n",
              "    </tr>\n",
              "    <tr>\n",
              "      <th>SP</th>\n",
              "      <td>300.0</td>\n",
              "      <td>5.73</td>\n",
              "      <td>0.36</td>\n",
              "      <td>4.90</td>\n",
              "      <td>5.37</td>\n",
              "      <td>5.79</td>\n",
              "      <td>5.99</td>\n",
              "      <td>6.40</td>\n",
              "    </tr>\n",
              "    <tr>\n",
              "      <th>STANG</th>\n",
              "      <td>137.0</td>\n",
              "      <td>5.09</td>\n",
              "      <td>0.47</td>\n",
              "      <td>4.15</td>\n",
              "      <td>4.77</td>\n",
              "      <td>5.29</td>\n",
              "      <td>5.45</td>\n",
              "      <td>5.65</td>\n",
              "    </tr>\n",
              "    <tr>\n",
              "      <th>SUL COMBUSTÍVEIS</th>\n",
              "      <td>36.0</td>\n",
              "      <td>6.07</td>\n",
              "      <td>0.18</td>\n",
              "      <td>5.40</td>\n",
              "      <td>6.00</td>\n",
              "      <td>6.10</td>\n",
              "      <td>6.20</td>\n",
              "      <td>6.38</td>\n",
              "    </tr>\n",
              "    <tr>\n",
              "      <th>TAURUS</th>\n",
              "      <td>164.0</td>\n",
              "      <td>5.20</td>\n",
              "      <td>0.74</td>\n",
              "      <td>3.70</td>\n",
              "      <td>4.46</td>\n",
              "      <td>5.44</td>\n",
              "      <td>5.86</td>\n",
              "      <td>6.32</td>\n",
              "    </tr>\n",
              "    <tr>\n",
              "      <th>TDC DISTRIBUIDORA</th>\n",
              "      <td>94.0</td>\n",
              "      <td>5.57</td>\n",
              "      <td>0.43</td>\n",
              "      <td>4.76</td>\n",
              "      <td>5.10</td>\n",
              "      <td>5.58</td>\n",
              "      <td>5.85</td>\n",
              "      <td>6.40</td>\n",
              "    </tr>\n",
              "    <tr>\n",
              "      <th>TEMAPE</th>\n",
              "      <td>53.0</td>\n",
              "      <td>5.45</td>\n",
              "      <td>0.31</td>\n",
              "      <td>4.90</td>\n",
              "      <td>5.18</td>\n",
              "      <td>5.50</td>\n",
              "      <td>5.78</td>\n",
              "      <td>5.95</td>\n",
              "    </tr>\n",
              "    <tr>\n",
              "      <th>TOBRAS</th>\n",
              "      <td>24.0</td>\n",
              "      <td>5.57</td>\n",
              "      <td>0.57</td>\n",
              "      <td>4.70</td>\n",
              "      <td>4.99</td>\n",
              "      <td>5.93</td>\n",
              "      <td>6.10</td>\n",
              "      <td>6.20</td>\n",
              "    </tr>\n",
              "    <tr>\n",
              "      <th>TORRAO</th>\n",
              "      <td>60.0</td>\n",
              "      <td>4.86</td>\n",
              "      <td>0.63</td>\n",
              "      <td>4.00</td>\n",
              "      <td>4.10</td>\n",
              "      <td>5.20</td>\n",
              "      <td>5.35</td>\n",
              "      <td>5.90</td>\n",
              "    </tr>\n",
              "    <tr>\n",
              "      <th>TOTAL BRASIL</th>\n",
              "      <td>115.0</td>\n",
              "      <td>5.33</td>\n",
              "      <td>0.76</td>\n",
              "      <td>3.85</td>\n",
              "      <td>4.60</td>\n",
              "      <td>5.56</td>\n",
              "      <td>6.00</td>\n",
              "      <td>6.35</td>\n",
              "    </tr>\n",
              "    <tr>\n",
              "      <th>UNI</th>\n",
              "      <td>21.0</td>\n",
              "      <td>4.94</td>\n",
              "      <td>0.53</td>\n",
              "      <td>4.17</td>\n",
              "      <td>4.24</td>\n",
              "      <td>5.27</td>\n",
              "      <td>5.33</td>\n",
              "      <td>5.39</td>\n",
              "    </tr>\n",
              "    <tr>\n",
              "      <th>WALENDOWSKY</th>\n",
              "      <td>27.0</td>\n",
              "      <td>5.32</td>\n",
              "      <td>0.24</td>\n",
              "      <td>5.00</td>\n",
              "      <td>5.00</td>\n",
              "      <td>5.40</td>\n",
              "      <td>5.46</td>\n",
              "      <td>5.62</td>\n",
              "    </tr>\n",
              "    <tr>\n",
              "      <th>WATT</th>\n",
              "      <td>15.0</td>\n",
              "      <td>5.45</td>\n",
              "      <td>0.85</td>\n",
              "      <td>4.35</td>\n",
              "      <td>4.53</td>\n",
              "      <td>5.99</td>\n",
              "      <td>6.08</td>\n",
              "      <td>6.38</td>\n",
              "    </tr>\n",
              "  </tbody>\n",
              "</table>\n",
              "</div>\n",
              "      <button class=\"colab-df-convert\" onclick=\"convertToInteractive('df-a0867b36-74fb-4e01-89b6-4a53dbffb720')\"\n",
              "              title=\"Convert this dataframe to an interactive table.\"\n",
              "              style=\"display:none;\">\n",
              "        \n",
              "  <svg xmlns=\"http://www.w3.org/2000/svg\" height=\"24px\"viewBox=\"0 0 24 24\"\n",
              "       width=\"24px\">\n",
              "    <path d=\"M0 0h24v24H0V0z\" fill=\"none\"/>\n",
              "    <path d=\"M18.56 5.44l.94 2.06.94-2.06 2.06-.94-2.06-.94-.94-2.06-.94 2.06-2.06.94zm-11 1L8.5 8.5l.94-2.06 2.06-.94-2.06-.94L8.5 2.5l-.94 2.06-2.06.94zm10 10l.94 2.06.94-2.06 2.06-.94-2.06-.94-.94-2.06-.94 2.06-2.06.94z\"/><path d=\"M17.41 7.96l-1.37-1.37c-.4-.4-.92-.59-1.43-.59-.52 0-1.04.2-1.43.59L10.3 9.45l-7.72 7.72c-.78.78-.78 2.05 0 2.83L4 21.41c.39.39.9.59 1.41.59.51 0 1.02-.2 1.41-.59l7.78-7.78 2.81-2.81c.8-.78.8-2.07 0-2.86zM5.41 20L4 18.59l7.72-7.72 1.47 1.35L5.41 20z\"/>\n",
              "  </svg>\n",
              "      </button>\n",
              "      \n",
              "  <style>\n",
              "    .colab-df-container {\n",
              "      display:flex;\n",
              "      flex-wrap:wrap;\n",
              "      gap: 12px;\n",
              "    }\n",
              "\n",
              "    .colab-df-convert {\n",
              "      background-color: #E8F0FE;\n",
              "      border: none;\n",
              "      border-radius: 50%;\n",
              "      cursor: pointer;\n",
              "      display: none;\n",
              "      fill: #1967D2;\n",
              "      height: 32px;\n",
              "      padding: 0 0 0 0;\n",
              "      width: 32px;\n",
              "    }\n",
              "\n",
              "    .colab-df-convert:hover {\n",
              "      background-color: #E2EBFA;\n",
              "      box-shadow: 0px 1px 2px rgba(60, 64, 67, 0.3), 0px 1px 3px 1px rgba(60, 64, 67, 0.15);\n",
              "      fill: #174EA6;\n",
              "    }\n",
              "\n",
              "    [theme=dark] .colab-df-convert {\n",
              "      background-color: #3B4455;\n",
              "      fill: #D2E3FC;\n",
              "    }\n",
              "\n",
              "    [theme=dark] .colab-df-convert:hover {\n",
              "      background-color: #434B5C;\n",
              "      box-shadow: 0px 1px 3px 1px rgba(0, 0, 0, 0.15);\n",
              "      filter: drop-shadow(0px 1px 2px rgba(0, 0, 0, 0.3));\n",
              "      fill: #FFFFFF;\n",
              "    }\n",
              "  </style>\n",
              "\n",
              "      <script>\n",
              "        const buttonEl =\n",
              "          document.querySelector('#df-a0867b36-74fb-4e01-89b6-4a53dbffb720 button.colab-df-convert');\n",
              "        buttonEl.style.display =\n",
              "          google.colab.kernel.accessAllowed ? 'block' : 'none';\n",
              "\n",
              "        async function convertToInteractive(key) {\n",
              "          const element = document.querySelector('#df-a0867b36-74fb-4e01-89b6-4a53dbffb720');\n",
              "          const dataTable =\n",
              "            await google.colab.kernel.invokeFunction('convertToInteractive',\n",
              "                                                     [key], {});\n",
              "          if (!dataTable) return;\n",
              "\n",
              "          const docLinkHtml = 'Like what you see? Visit the ' +\n",
              "            '<a target=\"_blank\" href=https://colab.research.google.com/notebooks/data_table.ipynb>data table notebook</a>'\n",
              "            + ' to learn more about interactive tables.';\n",
              "          element.innerHTML = '';\n",
              "          dataTable['output_type'] = 'display_data';\n",
              "          await google.colab.output.renderOutput(dataTable, element);\n",
              "          const docLink = document.createElement('div');\n",
              "          docLink.innerHTML = docLinkHtml;\n",
              "          element.appendChild(docLink);\n",
              "        }\n",
              "      </script>\n",
              "    </div>\n",
              "  </div>\n",
              "  "
            ],
            "text/plain": [
              "                                count  mean   std   min   25%   50%   75%   max\n",
              "Bandeira                                                                       \n",
              "ACOL                              9.0  5.65  0.77  4.60  4.70  6.10  6.10  6.30\n",
              "ALESAT                         2046.0  5.47  0.68  3.75  5.00  5.58  5.99  6.70\n",
              "AMERICANOIL                      89.0  5.45  0.25  5.00  5.38  5.55  5.65  5.75\n",
              "ATEM' S                         504.0  5.36  0.54  4.18  5.00  5.53  5.79  6.97\n",
              "ATLÂNTICA                        70.0  5.66  0.40  4.68  5.64  5.79  5.95  6.09\n",
              "BRANCA                        35927.0  5.23  0.73  3.10  4.70  5.40  5.79  7.00\n",
              "CHARRUA                         104.0  6.08  0.22  5.60  5.90  6.09  6.23  6.60\n",
              "CIAPETRO                        141.0  5.22  0.67  4.00  4.47  5.58  5.75  6.33\n",
              "DIBRAPE                          28.0  5.30  0.24  4.55  5.30  5.36  5.40  5.70\n",
              "DISLUB                          226.0  5.70  0.43  4.78  5.28  5.80  6.00  6.47\n",
              "D`MAIS                           12.0  5.00  0.67  4.00  4.17  5.40  5.45  5.57\n",
              "EQUADOR                         336.0  5.78  0.55  4.19  5.55  5.85  6.16  6.55\n",
              "ESTRADA                           3.0  5.06  0.67  4.29  4.84  5.39  5.44  5.49\n",
              "FAN                              62.0  5.76  0.45  4.29  5.29  5.89  6.00  6.29\n",
              "FEDERAL ENERGIA                  51.0  5.34  0.50  4.49  4.99  5.46  5.86  5.98\n",
              "IDAZA                           231.0  5.29  0.82  3.80  4.36  5.77  5.90  6.30\n",
              "IPIRANGA                      16965.0  5.43  0.71  3.30  5.00  5.60  5.90  7.10\n",
              "LARCO                            21.0  5.56  0.49  4.85  4.95  5.85  5.95  5.95\n",
              "MASUT DISTRIBUIDORA              74.0  5.50  0.74  4.26  4.58  6.02  6.11  6.18\n",
              "MAXSUL                           55.0  5.48  0.50  4.17  5.50  5.53  5.69  6.28\n",
              "PELIKANO                          6.0  4.92  0.59  4.10  4.47  5.30  5.30  5.30\n",
              "PETROBAHIA                       70.0  5.78  0.56  4.59  5.20  5.99  6.28  6.48\n",
              "PETROBRAS DISTRIBUIDORA S.A.  20632.0  5.54  0.68  3.70  5.19  5.70  6.00  7.10\n",
              "PETROSERRA                       24.0  5.38  0.50  4.51  4.83  5.53  5.83  5.83\n",
              "PETROX DISTRIBUIDORA            159.0  5.49  0.34  4.76  5.08  5.58  5.78  6.00\n",
              "POTENCIAL                        59.0  5.28  0.62  4.10  5.24  5.32  5.79  6.29\n",
              "RAIZEN                        16254.0  5.42  0.72  3.55  4.99  5.60  5.97  7.00\n",
              "RAIZEN MIME                     521.0  5.41  0.29  4.50  5.05  5.50  5.60  6.00\n",
              "REJAILE                          22.0  5.43  0.33  4.80  5.21  5.59  5.66  5.73\n",
              "RIO BRANCO                      109.0  5.46  0.81  4.00  4.60  5.97  6.10  6.50\n",
              "RODOIL                          379.0  5.72  0.52  4.08  5.48  5.90  6.10  6.88\n",
              "ROYAL FIC                        33.0  5.28  0.63  4.30  4.49  5.60  5.79  5.80\n",
              "RUFF C.J.                        10.0  4.86  0.66  4.10  4.28  4.85  5.40  5.60\n",
              "RZD DISTRIBUIDORA                24.0  5.03  0.59  4.15  4.44  5.27  5.36  5.79\n",
              "SABBÁ                          1042.0  5.63  0.55  4.10  5.29  5.70  6.00  6.80\n",
              "SETTA DISTRIBUIDORA             119.0  5.45  0.36  4.69  5.09  5.60  5.70  5.89\n",
              "SIMARELLI                       102.0  5.31  0.73  4.09  4.40  5.70  5.97  6.17\n",
              "SMALL                            21.0  5.35  0.68  4.30  4.50  5.70  5.80  6.00\n",
              "SP                              300.0  5.73  0.36  4.90  5.37  5.79  5.99  6.40\n",
              "STANG                           137.0  5.09  0.47  4.15  4.77  5.29  5.45  5.65\n",
              "SUL COMBUSTÍVEIS                 36.0  6.07  0.18  5.40  6.00  6.10  6.20  6.38\n",
              "TAURUS                          164.0  5.20  0.74  3.70  4.46  5.44  5.86  6.32\n",
              "TDC DISTRIBUIDORA                94.0  5.57  0.43  4.76  5.10  5.58  5.85  6.40\n",
              "TEMAPE                           53.0  5.45  0.31  4.90  5.18  5.50  5.78  5.95\n",
              "TOBRAS                           24.0  5.57  0.57  4.70  4.99  5.93  6.10  6.20\n",
              "TORRAO                           60.0  4.86  0.63  4.00  4.10  5.20  5.35  5.90\n",
              "TOTAL BRASIL                    115.0  5.33  0.76  3.85  4.60  5.56  6.00  6.35\n",
              "UNI                              21.0  4.94  0.53  4.17  4.24  5.27  5.33  5.39\n",
              "WALENDOWSKY                      27.0  5.32  0.24  5.00  5.00  5.40  5.46  5.62\n",
              "WATT                             15.0  5.45  0.85  4.35  4.53  5.99  6.08  6.38"
            ]
          },
          "metadata": {},
          "execution_count": 78
        }
      ],
      "source": [
        "df_group_band = df.groupby('Bandeira')\n",
        "df_group_band['Valor'].describe().round(2)"
      ]
    },
    {
      "cell_type": "markdown",
      "source": [
        "## **6. Conclusões**\n",
        "\n",
        "djfsljdfklajdsklsj;fdljksadl\n",
        "\n",
        "**Resultados:**\n",
        "\n",
        "\n",
        "* jldshsjdflkdsj;f\n",
        "* kldjskljdlka;dskfj;s\n",
        "* dksljkldsj;ld"
      ],
      "metadata": {
        "id": "6zw2t6muBZlo"
      }
    },
    {
      "cell_type": "code",
      "source": [
        "regiao = df.groupby('Regiao')['Valor'].mean()\n",
        "\n",
        "fig, ax = plt.subplots(figsize = (15, 8))\n",
        "# gráfico de barras\n",
        "ax.bar(x = regiao.index,\n",
        "       height = regiao.values,\n",
        "       color = 'purple', edgecolor = 'pink',\n",
        "       linewidth = 1\n",
        "      )\n",
        "# altera o ticklabel do eixo x\n",
        "ax.set_xticklabels(labels = regiao.index,rotation = 90);\n",
        "# limite do eixo y\n",
        "ax.set_ylim(0, regiao.values[0]*1.5)\n",
        "# altera os rótulos e o title\n",
        "ax.set(xlabel = 'Regiao', ylabel = 'Valor médio em reais')\n",
        "ax.set_title('Valor médio por regiao', \n",
        "             pad = 10, fontsize = 15, fontweight = 'bold')\n"
      ],
      "metadata": {
        "id": "HSwWX0AHBnk8",
        "colab": {
          "base_uri": "https://localhost:8080/",
          "height": 542
        },
        "outputId": "c0473cdd-f3b9-4103-e339-25a704441e8d"
      },
      "execution_count": null,
      "outputs": [
        {
          "output_type": "execute_result",
          "data": {
            "text/plain": [
              "Text(0.5, 1.0, 'Valor médio por regiao')"
            ]
          },
          "metadata": {},
          "execution_count": 79
        },
        {
          "output_type": "display_data",
          "data": {
            "image/png": "[encoded data removed]",
            "text/plain": [
              "<Figure size 1080x576 with 1 Axes>"
            ]
          },
          "metadata": {
            "needs_background": "light"
          }
        }
      ]
    },
    {
      "cell_type": "markdown",
      "source": [
        "## **7. Referências**\n",
        "\n",
        "* https://www.gov.br/anp/pt-br\n",
        "* https://www.fecombustiveis.org.br/"
      ],
      "metadata": {
        "id": "JkYamogq1G0O"
      }
    },
    {
      "cell_type": "code",
      "source": [
        ""
      ],
      "metadata": {
        "id": "PAmpaPgXGdgg"
      },
      "execution_count": null,
      "outputs": []
    }
  ],
  "metadata": {
    "colab": {
      "collapsed_sections": [
        "1zIF2tQsux-j",
        "_le_yRDcv5S5",
        "s4kukcY9KlAB",
        "_V6BRn3qWOm4",
        "-1mBH6AiKT3S",
        "topBrf-T5RHF",
        "nABsZXVO9Jw4",
        "VTWRAoBoMEdR",
        "kC1v-vheUl61",
        "ufFYHD72hNGR",
        "9auJILNuSQUH",
        "YMu3e5LJSVc2",
        "1H4gMAT8Scyz",
        "1d6XlzgsSfES",
        "_j4lQNXSShYa",
        "6zw2t6muBZlo"
      ],
      "name": "Projeto_M4_Grupo_4.ipynb",
      "provenance": [],
      "toc_visible": true,
      "include_colab_link": true
    },
    "kernelspec": {
      "display_name": "Python 3",
      "name": "python3"
    },
    "language_info": {
      "name": "python"
    }
  },
  "nbformat": 4,
  "nbformat_minor": 0
}